{
 "cells": [
  {
   "cell_type": "code",
   "execution_count": null,
   "metadata": {},
   "outputs": [],
   "source": [
    "import pandas as pd\n",
    "import numpy as np\n",
    "import matplotlib.pyplot as plt\n",
    "\n",
    "#CSV Import\n",
    "SomebodyThatIUsedToKnow = pd.read_csv(\"~/cours/BUT Informatique/3ème Année/SAE3/Big_boss_authors.csv\", delimiter=\",\")\n",
    "\n",
    "#Loop for every row\n",
    "for row in SomebodyThatIUsedToKnow.iterrows():\n",
    "    #Every rows that causes issues\n",
    "    row[1]['author_gender'] = row[1]['author_gender'].replace(\"\\n\", \"\")\n",
    "    row[1]['author_genres'] = row[1]['author_genres'].replace(\"\\n\", \"\")\n",
    "    row[1]['author_name'] = row[1]['author_name'].replace(\"\\n\", \"\")\n",
    "    row[1]['birthplace'] = row[1]['birthplace'].replace(\"\\n\", \"\")\n",
    "    row[1]['birthplace'] = row[1]['birthplace'].replace(\"  \", \"\")\n",
    "    row[1]['book_title'] = row[1]['book_title'].replace(\"\\n\", \"\")\n",
    "    #Put all the modification in a list\n",
    "    hello = row[1].tolist()\n",
    "    #Repalce the list in the dataframe with the corresponding row\n",
    "    SomebodyThatIUsedToKnow.loc[row[0]] = hello\n",
    "    \n",
    "print(SomebodyThatIUsedToKnow)    "
   ]
  }
 ],
 "metadata": {
  "language_info": {
   "name": "python"
  }
 },
 "nbformat": 4,
 "nbformat_minor": 2
}
