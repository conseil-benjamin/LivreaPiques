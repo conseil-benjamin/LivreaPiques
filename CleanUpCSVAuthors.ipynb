{
 "cells": [
  {
   "cell_type": "code",
   "execution_count": 8,
   "metadata": {},
   "outputs": [
    {
     "data": {
      "text/plain": [
       "'\\n#Loop for every row\\nfor row in BaseDataFrame.iterrows():\\n    #Every rows that causes issues\\n    row[1][\\'author_gender\\'] = row[1][\\'author_gender\\'].replace(\"\\n\", \"\")\\n    row[1][\\'author_genres\\'] = row[1][\\'author_genres\\'].replace(\"\\n\", \"\")\\n    row[1][\\'author_name\\'] = row[1][\\'author_name\\'].replace(\"\\n\", \"\")\\n    row[1][\\'birthplace\\'] = row[1][\\'birthplace\\'].replace(\"\\n\", \"\")\\n    row[1][\\'birthplace\\'] = row[1][\\'birthplace\\'].replace(\"  \", \"\")\\n    row[1][\\'book_title\\'] = row[1][\\'book_title\\'].replace(\"\\n\", \"\")\\n    row[1][\\'book_title\\'] = row[1][\\'book_title\\'].replace(\"  \", \"\")\\n    #Put all the modification in a list\\n    CorrectedRows = row[1].tolist()\\n    #Repalce the list in the dataframe with the corresponding row\\n    BaseDataFrame.loc[row[0]] = CorrectedRows\\n\\nBaseDataFrame.to_csv(\"CleanedAuthors.csv\", index=True) \\n'"
      ]
     },
     "execution_count": 8,
     "metadata": {},
     "output_type": "execute_result"
    }
   ],
   "source": [
    "import pandas as pd\n",
    "import numpy as np\n",
    "import matplotlib.pyplot as plt\n",
    "\n",
    "#CSV Import\n",
    "BaseDataFrame = pd.read_csv(\"Big_boss_authors.csv\", delimiter=\",\")\n",
    "\n",
    "'''\n",
    "#Loop for every row\n",
    "for row in BaseDataFrame.iterrows():\n",
    "    #Every rows that causes issues\n",
    "    row[1]['author_gender'] = row[1]['author_gender'].replace(\"\\n\", \"\")\n",
    "    row[1]['author_genres'] = row[1]['author_genres'].replace(\"\\n\", \"\")\n",
    "    row[1]['author_name'] = row[1]['author_name'].replace(\"\\n\", \"\")\n",
    "    row[1]['birthplace'] = row[1]['birthplace'].replace(\"\\n\", \"\")\n",
    "    row[1]['birthplace'] = row[1]['birthplace'].replace(\"  \", \"\")\n",
    "    row[1]['book_title'] = row[1]['book_title'].replace(\"\\n\", \"\")\n",
    "    row[1]['book_title'] = row[1]['book_title'].replace(\"  \", \"\")\n",
    "    #Put all the modification in a list\n",
    "    CorrectedRows = row[1].tolist()\n",
    "    #Repalce the list in the dataframe with the corresponding row\n",
    "    BaseDataFrame.loc[row[0]] = CorrectedRows\n",
    "\n",
    "BaseDataFrame.to_csv(\"CleanedAuthors.csv\", index=True) \n",
    "'''   "
   ]
  },
  {
   "cell_type": "code",
   "execution_count": 9,
   "metadata": {},
   "outputs": [
    {
     "name": "stdout",
     "output_type": "stream",
     "text": [
      "Unnamed: 0 int64\n",
      "author_average_rating float64\n",
      "author_gender object\n",
      "author_genres object\n",
      "author_id int64\n",
      "author_name object\n",
      "author_rating_count int64\n",
      "author_review_count int64\n",
      "birthplace object\n",
      "book_average_rating float64\n",
      "book_id object\n",
      "book_title object\n",
      "genre_1 object\n",
      "genre_2 object\n",
      "num_ratings int64\n",
      "num_reviews int64\n",
      "pages object\n",
      "publish_date object\n"
     ]
    }
   ],
   "source": [
    "cleanedDataFrame = pd.read_csv(\"CleanedAuthors.csv\", delimiter=\",\")\n",
    "\n",
    "## affiché chaque variable avec son type\n",
    "for column in cleanedDataFrame.columns:\n",
    "    print(column, cleanedDataFrame[column].dtype)\n"
   ]
  },
  {
   "cell_type": "code",
   "execution_count": 11,
   "metadata": {},
   "outputs": [
    {
     "data": {
      "text/plain": [
       "0    0\n",
       "1    1\n",
       "2    2\n",
       "3    3\n",
       "4    4\n",
       "5    5\n",
       "6    6\n",
       "7    7\n",
       "8    8\n",
       "9    9\n",
       "Name: Unnamed: 0, dtype: int64"
      ]
     },
     "metadata": {},
     "output_type": "display_data"
    },
    {
     "data": {
      "text/plain": [
       "0    277\n",
       "1    465\n",
       "2    354\n",
       "3    438\n",
       "4    326\n",
       "5    104\n",
       "6    327\n",
       "7    319\n",
       "8    278\n",
       "9    303\n",
       "Name: pages, dtype: object"
      ]
     },
     "metadata": {},
     "output_type": "display_data"
    },
    {
     "name": "stderr",
     "output_type": "stream",
     "text": [
      "/tmp/ipykernel_24193/1136723955.py:4: DtypeWarning: Columns (18,24,25,26,27,28,29,30,31,32,33,34,35,36,37,38,39,40,41,42,43,44,45,46,47,48,49,50,51,52,53,54,55,56,57,58,59,60,61,62,63,64,65,66,67,68,69,70,71,72,73,74,75,76,77,78,79,80,81,82,83,84,85,86) have mixed types. Specify dtype option on import or set low_memory=False.\n",
      "  bookdf = pd.read_csv(\"bigboss_book.csv\", delimiter=\",\")\n"
     ]
    }
   ],
   "source": [
    "display(cleanedDataFrame['Unnamed: 0'].head(10))\n",
    "display(cleanedDataFrame['pages'].head(10))\n",
    "\n",
    "bookdf = pd.read_csv(\"bigboss_book.csv\", delimiter=\",\")"
   ]
  },
  {
   "cell_type": "code",
   "execution_count": 12,
   "metadata": {},
   "outputs": [
    {
     "name": "stdout",
     "output_type": "stream",
     "text": [
      "id int64\n",
      "title object\n",
      "series object\n",
      "author object\n",
      "rating_count int64\n",
      "review_count int64\n",
      "average_rating object\n",
      "five_star_ratings int64\n",
      "four_star_ratings int64\n",
      "three_star_ratings int64\n",
      "two_star_ratings int64\n",
      "one_star_ratings int64\n",
      "number_of_pages float64\n",
      "date_published object\n",
      "publisher object\n",
      "original_title object\n",
      "genre_and_votes object\n",
      "isbn object\n",
      "isbn13 object\n",
      "settings object\n",
      "characters object\n",
      "awards object\n",
      "books_in_series object\n",
      "description object\n",
      "Unnamed: 24 object\n",
      "Unnamed: 25 object\n",
      "Unnamed: 26 object\n",
      "Unnamed: 27 object\n",
      "Unnamed: 28 object\n",
      "Unnamed: 29 object\n",
      "Unnamed: 30 object\n",
      "Unnamed: 31 object\n",
      "Unnamed: 32 object\n",
      "Unnamed: 33 object\n",
      "Unnamed: 34 object\n",
      "Unnamed: 35 object\n",
      "Unnamed: 36 object\n",
      "Unnamed: 37 object\n",
      "Unnamed: 38 object\n",
      "Unnamed: 39 object\n",
      "Unnamed: 40 object\n",
      "Unnamed: 41 object\n",
      "Unnamed: 42 object\n",
      "Unnamed: 43 object\n",
      "Unnamed: 44 object\n",
      "Unnamed: 45 object\n",
      "Unnamed: 46 object\n",
      "Unnamed: 47 object\n",
      "Unnamed: 48 object\n",
      "Unnamed: 49 object\n",
      "Unnamed: 50 object\n",
      "Unnamed: 51 object\n",
      "Unnamed: 52 object\n",
      "Unnamed: 53 object\n",
      "Unnamed: 54 object\n",
      "Unnamed: 55 object\n",
      "Unnamed: 56 object\n",
      "Unnamed: 57 object\n",
      "Unnamed: 58 object\n",
      "Unnamed: 59 object\n",
      "Unnamed: 60 object\n",
      "Unnamed: 61 object\n",
      "Unnamed: 62 object\n",
      "Unnamed: 63 object\n",
      "Unnamed: 64 object\n",
      "Unnamed: 65 object\n",
      "Unnamed: 66 object\n",
      "Unnamed: 67 object\n",
      "Unnamed: 68 object\n",
      "Unnamed: 69 object\n",
      "Unnamed: 70 object\n",
      "Unnamed: 71 object\n",
      "Unnamed: 72 object\n",
      "Unnamed: 73 object\n",
      "Unnamed: 74 object\n",
      "Unnamed: 75 object\n",
      "Unnamed: 76 object\n",
      "Unnamed: 77 object\n",
      "Unnamed: 78 object\n",
      "Unnamed: 79 object\n",
      "Unnamed: 80 object\n",
      "Unnamed: 81 object\n",
      "Unnamed: 82 object\n",
      "Unnamed: 83 object\n",
      "Unnamed: 84 object\n",
      "Unnamed: 85 object\n",
      "Unnamed: 86 object\n"
     ]
    }
   ],
   "source": [
    "for column in bookdf.columns:\n",
    "    print(column, bookdf[column].dtype)"
   ]
  }
 ],
 "metadata": {
  "kernelspec": {
   "display_name": "Python 3",
   "language": "python",
   "name": "python3"
  },
  "language_info": {
   "codemirror_mode": {
    "name": "ipython",
    "version": 3
   },
   "file_extension": ".py",
   "mimetype": "text/x-python",
   "name": "python",
   "nbconvert_exporter": "python",
   "pygments_lexer": "ipython3",
   "version": "3.12.6"
  }
 },
 "nbformat": 4,
 "nbformat_minor": 2
}
