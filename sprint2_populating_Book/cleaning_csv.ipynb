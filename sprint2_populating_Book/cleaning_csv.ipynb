{
 "cells": [
  {
   "cell_type": "code",
   "execution_count": 2,
   "metadata": {},
   "outputs": [
    {
     "name": "stderr",
     "output_type": "stream",
     "text": [
      "/tmp/ipykernel_30497/3971980152.py:4: DtypeWarning: Columns (18,24,25,26,27,28,29,30,31,32,33,34,35,36,37,38,39,40,41,42,43,44,45,46,47,48,49,50,51,52,53,54,55,56,57,58,59,60,61,62,63,64,65,66,67,68,69,70,71,72,73,74,75,76,77,78,79,80,81,82,83,84,85,86) have mixed types. Specify dtype option on import or set low_memory=False.\n",
      "  data = pd.read_csv('../new_data/books_corrected.csv')\n"
     ]
    }
   ],
   "source": [
    "import pandas as pd\n",
    "import numpy as np\n",
    "\n",
    "data = pd.read_csv('../new_data/books_corrected.csv')"
   ]
  },
  {
   "cell_type": "code",
   "execution_count": 3,
   "metadata": {},
   "outputs": [
    {
     "name": "stdout",
     "output_type": "stream",
     "text": [
      "Index(['id', 'title', 'series', 'author', 'rating_count', 'review_count',\n",
      "       'average_rating', 'five_star_ratings', 'four_star_ratings',\n",
      "       'three_star_ratings', 'two_star_ratings', 'one_star_ratings',\n",
      "       'number_of_pages', 'date_published', 'publisher', 'original_title',\n",
      "       'genre_and_votes', 'isbn', 'isbn13', 'settings', 'characters', 'awards',\n",
      "       'books_in_series', 'description'],\n",
      "      dtype='object')\n"
     ]
    }
   ],
   "source": [
    "#enlever toute les collone unamed\n",
    "data = data.loc[:, ~data.columns.str.contains('^Unnamed')]\n",
    "\n",
    "print(data.columns)"
   ]
  },
  {
   "cell_type": "code",
   "execution_count": 5,
   "metadata": {},
   "outputs": [],
   "source": [
    "#enlever les collones qui ne sont pas utiles\n",
    "data = data.drop(columns=['id', 'series', 'publisher', 'genre_and_votes', 'characters', 'awards', 'books_in_series'])\n"
   ]
  },
  {
   "cell_type": "code",
   "execution_count": 6,
   "metadata": {},
   "outputs": [
    {
     "name": "stdout",
     "output_type": "stream",
     "text": [
      "Index(['title', 'author', 'rating_count', 'review_count', 'average_rating',\n",
      "       'five_star_ratings', 'four_star_ratings', 'three_star_ratings',\n",
      "       'two_star_ratings', 'one_star_ratings', 'number_of_pages',\n",
      "       'date_published', 'original_title', 'isbn', 'isbn13', 'settings',\n",
      "       'description'],\n",
      "      dtype='object')\n"
     ]
    }
   ],
   "source": [
    "print(data.columns)"
   ]
  }
 ],
 "metadata": {
  "kernelspec": {
   "display_name": "Python 3",
   "language": "python",
   "name": "python3"
  },
  "language_info": {
   "codemirror_mode": {
    "name": "ipython",
    "version": 3
   },
   "file_extension": ".py",
   "mimetype": "text/x-python",
   "name": "python",
   "nbconvert_exporter": "python",
   "pygments_lexer": "ipython3",
   "version": "3.12.6"
  }
 },
 "nbformat": 4,
 "nbformat_minor": 2
}
