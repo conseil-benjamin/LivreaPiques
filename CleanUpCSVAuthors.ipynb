{
 "cells": [
  {
   "cell_type": "code",
   "execution_count": 3,
   "metadata": {},
   "outputs": [],
   "source": [
    "import pandas as pd\n",
    "import numpy as np\n",
    "import matplotlib.pyplot as plt\n",
    "\n",
    "#CSV Import\n",
    "BaseDataFrame = pd.read_csv(\"Big_boss_authors.csv\", delimiter=\",\")\n",
    "\n",
    "#Loop for every row\n",
    "for row in BaseDataFrame.iterrows():\n",
    "    #Every rows that causes issues\n",
    "    row[1]['author_gender'] = row[1]['author_gender'].replace(\"\\n\", \"\")\n",
    "    row[1]['author_genres'] = row[1]['author_genres'].replace(\"\\n\", \"\")\n",
    "    row[1]['author_name'] = row[1]['author_name'].replace(\"\\n\", \"\")\n",
    "    row[1]['birthplace'] = row[1]['birthplace'].replace(\"\\n\", \"\")\n",
    "    row[1]['birthplace'] = row[1]['birthplace'].replace(\"  \", \"\")\n",
    "    row[1]['book_title'] = row[1]['book_title'].replace(\"\\n\", \"\")\n",
    "    row[1]['book_title'] = row[1]['book_title'].replace(\"  \", \"\")\n",
    "    #Put all the modification in a list\n",
    "    CorrectedRows = row[1].tolist()\n",
    "    #Repalce the list in the dataframe with the corresponding row\n",
    "    BaseDataFrame.loc[row[0]] = CorrectedRows\n",
    "    \n",
    "BaseDataFrame.to_csv(\"CleanedAuthors.csv\", index=True)    "
   ]
  },
  {
   "cell_type": "code",
   "execution_count": 7,
   "metadata": {},
   "outputs": [
    {
     "name": "stdout",
     "output_type": "stream",
     "text": [
      "Unnamed: 0 int64\n",
      "author_average_rating float64\n",
      "author_gender object\n",
      "author_genres object\n",
      "author_id int64\n",
      "author_name object\n",
      "author_rating_count int64\n",
      "author_review_count int64\n",
      "birthplace object\n",
      "book_average_rating float64\n",
      "book_id object\n",
      "book_title object\n",
      "genre_1 object\n",
      "genre_2 object\n",
      "num_ratings int64\n",
      "num_reviews int64\n",
      "pages object\n",
      "publish_date object\n"
     ]
    }
   ],
   "source": [
    "cleanedDataFrame = pd.read_csv(\"CleanedAuthors.csv\", delimiter=\",\")\n",
    "\n",
    "## affiché chaque variable avec son type\n",
    "for column in cleanedDataFrame.columns:\n",
    "    print(column, cleanedDataFrame[column].dtype)\n"
   ]
  },
  {
   "cell_type": "code",
   "execution_count": 10,
   "metadata": {},
   "outputs": [
    {
     "data": {
      "text/plain": [
       "0    0\n",
       "1    1\n",
       "2    2\n",
       "3    3\n",
       "4    4\n",
       "5    5\n",
       "6    6\n",
       "7    7\n",
       "8    8\n",
       "9    9\n",
       "Name: Unnamed: 0, dtype: int64"
      ]
     },
     "metadata": {},
     "output_type": "display_data"
    },
    {
     "data": {
      "text/plain": [
       "0    277\n",
       "1    465\n",
       "2    354\n",
       "3    438\n",
       "4    326\n",
       "5    104\n",
       "6    327\n",
       "7    319\n",
       "8    278\n",
       "9    303\n",
       "Name: pages, dtype: object"
      ]
     },
     "metadata": {},
     "output_type": "display_data"
    }
   ],
   "source": [
    "display(cleanedDataFrame['Unnamed: 0'].head(10))\n",
    "display(cleanedDataFrame['pages'].head(10))"
   ]
  }
 ],
 "metadata": {
  "kernelspec": {
   "display_name": "Python 3",
   "language": "python",
   "name": "python3"
  },
  "language_info": {
   "codemirror_mode": {
    "name": "ipython",
    "version": 3
   },
   "file_extension": ".py",
   "mimetype": "text/x-python",
   "name": "python",
   "nbconvert_exporter": "python",
   "pygments_lexer": "ipython3",
   "version": "3.12.6"
  }
 },
 "nbformat": 4,
 "nbformat_minor": 2
}
