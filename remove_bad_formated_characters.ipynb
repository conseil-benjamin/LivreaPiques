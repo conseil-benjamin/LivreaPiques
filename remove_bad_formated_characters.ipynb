{
 "cells": [
  {
   "cell_type": "code",
   "execution_count": null,
   "metadata": {},
   "outputs": [],
   "source": [
    "import pandas as pd\n",
    "import re\n",
    "import ftfy\n",
    "\n",
    "# Fonction pour détecter des caractères non-ASCII\n",
    "def contains_non_ascii(text):\n",
    "    return bool(re.search(r'[^\\x00-\\x7F]', str(text)))\n",
    "\n",
    "# Fonction pour ré-encoder les titres en UTF-8\n",
    "def reencode_to_utf8(text):\n",
    "    try:\n",
    "        # Essayer de décoder en UTF-8 directement\n",
    "        return text.encode('latin1').decode('utf-8')\n",
    "    except (UnicodeEncodeError, UnicodeDecodeError):\n",
    "        try:\n",
    "            # Essayer de décoder en UTF-8 après avoir encodé en latin1\n",
    "            return text.encode('utf-8').decode('latin1')\n",
    "        except (UnicodeEncodeError, UnicodeDecodeError):\n",
    "            return text\n",
    "\n",
    "# Fonction pour corriger les erreurs d'encodage avec ftfy\n",
    "def fix_encoding(text):\n",
    "    return ftfy.fix_text(text)\n",
    "\n",
    "# Lire le fichier CSV\n",
    "df = pd.read_csv('bigboss_book.csv')\n",
    "\n",
    "# Colonnes à traiter\n",
    "columns_to_fix = ['title', 'publisher', 'series', 'author', 'original_title', 'genre_and_votes', 'settings', 'characters', 'awards', 'description']\n",
    "\n",
    "# Appliquer les fonctions sur les colonnes spécifiées\n",
    "for column in columns_to_fix:\n",
    "    df_with_non_ascii = df[df[column].apply(contains_non_ascii)]\n",
    "    df_with_non_ascii[column] = df_with_non_ascii[column].apply(reencode_to_utf8)\n",
    "    df_with_non_ascii[column] = df_with_non_ascii[column].apply(fix_encoding)\n",
    "    df.update(df_with_non_ascii)\n",
    "\n",
    "# Sauvegarder le fichier CSV corrigé\n",
    "df.to_csv('books_corrected.csv', index=False)\n",
    "\n",
    "# Afficher les lignes contenant des caractères non-ASCII pour chaque colonne\n",
    "for column in columns_to_fix:\n",
    "    print(f\"Non-ASCII characters in column '{column}':\")\n",
    "    print(df[df[column].apply(contains_non_ascii)][column])"
   ]
  }
 ],
 "metadata": {
  "language_info": {
   "name": "python"
  }
 },
 "nbformat": 4,
 "nbformat_minor": 2
}
