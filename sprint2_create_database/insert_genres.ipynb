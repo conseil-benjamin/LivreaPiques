{
 "cells": [
  {
   "cell_type": "code",
   "execution_count": 5,
   "metadata": {},
   "outputs": [],
   "source": [
    "import pandas as pd\n",
    "import numpy as np\n",
    "\n",
    "data = '../new_data/books_corrected.csv'"
   ]
  },
  {
   "cell_type": "code",
   "execution_count": 7,
   "metadata": {},
   "outputs": [],
   "source": [
    "import pandas as pd\n",
    "import re\n",
    "\n",
    "# Initialiser une liste pour stocker les genres\n",
    "genres_list = []\n",
    "\n",
    "# Lire le fichier CSV par morceaux\n",
    "chunk_size = 10000  # Ajustez cette valeur en fonction de votre mémoire disponible\n",
    "for chunk in pd.read_csv(data, delimiter=\",\", low_memory=False, chunksize=chunk_size):\n",
    "    # Convertir la colonne 'genre_and_votes' en chaînes de caractères\n",
    "    chunk['genre_and_votes'] = chunk['genre_and_votes'].astype(str)\n",
    "    \n",
    "    # Diviser les genres littéraires\n",
    "    df_comb = chunk['genre_and_votes'].str.split(',', expand=True)\n",
    "    df_comb = df_comb.fillna('None')\n",
    "\n",
    "    # Itérer sur chaque ligne pour extraire les genres\n",
    "    for index, row in df_comb.iterrows():\n",
    "        for col in df_comb.columns:\n",
    "            if pd.notna(row[col]):\n",
    "                # Utiliser une expression régulière pour enlever les nombres\n",
    "                genre = re.sub(r'\\d+', '', row[col]).strip()\n",
    "                genres_list.append(genre)\n",
    "\n",
    "# Créer un DataFrame pour les genres extraits\n",
    "final_genres_data = pd.DataFrame({'genre': genres_list})\n",
    "\n",
    "# Sauvegarder les résultats finaux dans un fichier CSV\n",
    "final_genres_data.to_csv(\"test_genres.csv\", index=False)"
   ]
  }
 ],
 "metadata": {
  "kernelspec": {
   "display_name": "Python 3",
   "language": "python",
   "name": "python3"
  },
  "language_info": {
   "codemirror_mode": {
    "name": "ipython",
    "version": 3
   },
   "file_extension": ".py",
   "mimetype": "text/x-python",
   "name": "python",
   "nbconvert_exporter": "python",
   "pygments_lexer": "ipython3",
   "version": "3.12.6"
  }
 },
 "nbformat": 4,
 "nbformat_minor": 2
}
