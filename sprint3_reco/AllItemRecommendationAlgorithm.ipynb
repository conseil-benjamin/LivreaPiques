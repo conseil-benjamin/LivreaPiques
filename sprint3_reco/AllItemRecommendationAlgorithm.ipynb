{
 "cells": [
  {
   "cell_type": "code",
   "execution_count": null,
   "metadata": {},
   "outputs": [
    {
     "ename": "FileNotFoundError",
     "evalue": "[Errno 2] No such file or directory: 'sprint2_populating/application/config.yml'",
     "output_type": "error",
     "traceback": [
      "\u001b[0;31m---------------------------------------------------------------------------\u001b[0m",
      "\u001b[0;31mFileNotFoundError\u001b[0m                         Traceback (most recent call last)",
      "Cell \u001b[0;32mIn[4], line 8\u001b[0m\n\u001b[1;32m      5\u001b[0m sys\u001b[38;5;241m.\u001b[39mpath\u001b[38;5;241m.\u001b[39mappend(os\u001b[38;5;241m.\u001b[39mpath\u001b[38;5;241m.\u001b[39mabspath(\u001b[38;5;124m\"\u001b[39m\u001b[38;5;124m../sprint2_populating/application\u001b[39m\u001b[38;5;124m\"\u001b[39m))\n\u001b[1;32m      7\u001b[0m \u001b[38;5;66;03m# Import the library\u001b[39;00m\n\u001b[0;32m----> 8\u001b[0m \u001b[38;5;28;01mimport\u001b[39;00m \u001b[38;5;21;01mSQL_controleur\u001b[39;00m\u001b[38;5;21;01m.\u001b[39;00m\u001b[38;5;21;01mSQL_controleur\u001b[39;00m \u001b[38;5;28;01mas\u001b[39;00m \u001b[38;5;21;01msql\u001b[39;00m\n\u001b[1;32m     10\u001b[0m \u001b[38;5;66;03m# Example usage of a function or class in SQL_controleur\u001b[39;00m\n\u001b[1;32m     11\u001b[0m sql\u001b[38;5;241m.\u001b[39mconexion_db()\n",
      "File \u001b[0;32m~/Documents/LivreaPiques/sprint2_populating/application/SQL_controleur/SQL_controleur.py:9\u001b[0m\n\u001b[1;32m      6\u001b[0m \u001b[38;5;28;01mfrom\u001b[39;00m \u001b[38;5;21;01mtqdm\u001b[39;00m \u001b[38;5;28;01mimport\u001b[39;00m tqdm\n\u001b[1;32m      8\u001b[0m \u001b[38;5;66;03m# Import la donnée du fichier yml\u001b[39;00m\n\u001b[0;32m----> 9\u001b[0m \u001b[38;5;28;01mwith\u001b[39;00m \u001b[38;5;28;43mopen\u001b[39;49m\u001b[43m(\u001b[49m\u001b[38;5;124;43m'\u001b[39;49m\u001b[38;5;124;43msprint2_populating/application/config.yml\u001b[39;49m\u001b[38;5;124;43m'\u001b[39;49m\u001b[43m,\u001b[49m\u001b[43m \u001b[49m\u001b[38;5;124;43m'\u001b[39;49m\u001b[38;5;124;43mr\u001b[39;49m\u001b[38;5;124;43m'\u001b[39;49m\u001b[43m)\u001b[49m \u001b[38;5;28;01mas\u001b[39;00m file:\n\u001b[1;32m     10\u001b[0m     config \u001b[38;5;241m=\u001b[39m yaml\u001b[38;5;241m.\u001b[39msafe_load(file)\n\u001b[1;32m     13\u001b[0m \u001b[38;5;28;01mdef\u001b[39;00m \u001b[38;5;21mconexion_db\u001b[39m():\n",
      "\u001b[0;31mFileNotFoundError\u001b[0m: [Errno 2] No such file or directory: 'sprint2_populating/application/config.yml'"
     ]
    }
   ],
   "source": [
    "import pandas as pd\n",
    "from sqlalchemy import create_engine, select, Table, MetaData\n",
    "from sqlalchemy.orm import sessionmaker\n",
    "\n",
    "def conexion_db():\n",
    "    \"\"\"\n",
    "    Establishes a connection to the SQL database.\n",
    "    \n",
    "    Returns:\n",
    "        tuple: (engine, session) where:\n",
    "            - engine: The SQLAlchemy Engine object connected to the database.\n",
    "            - session: A SQLAlchemy session for executing queries.\n",
    "    \n",
    "    Raises:\n",
    "        Exception: If the connection to the database fails.\n",
    "    \"\"\"\n",
    "    try:\n",
    "        ## URL of the database\n",
    "        database_url = config['adress_sql']\n",
    "        engine = create_engine(database_url)\n",
    "        session = sessionmaker(bind=engine)\n",
    "        session = session()\n",
    "        print(\"Connection to the database successful\")\n",
    "        return engine, session\n",
    "    except:\n",
    "        raise Exception(\"Error in the connection to the database\")"
   ]
  },
  {
   "cell_type": "code",
   "execution_count": null,
   "metadata": {},
   "outputs": [
    {
     "name": "stdout",
     "output_type": "stream",
     "text": [
      "Current Directory: /home/diespurmann/Documents/LivreaPiques/sprint3_reco\n"
     ]
    }
   ],
   "source": [
    "import os\n",
    "\n",
    "# Get the current working directory\n",
    "current_directory = os.getcwd()\n",
    "\n",
    "print(f\"Current Directory: {current_directory}\")\n",
    "\n",
    "import configparser\n",
    "\n",
    "# Create a ConfigParser instance\n",
    "config = configparser.ConfigParser()\n",
    "\n",
    "# Read the .ini file\n",
    "config.read('config.ini')\n",
    "\n",
    "# Access the value of SQLAddress\n",
    "sql_address = config['Database']['SQLAddress']\n",
    "\n",
    "print(f\"SQL Address: {sql_address}\")\n",
    "\n"
   ]
  }
 ],
 "metadata": {
  "kernelspec": {
   "display_name": "Python 3",
   "language": "python",
   "name": "python3"
  },
  "language_info": {
   "codemirror_mode": {
    "name": "ipython",
    "version": 3
   },
   "file_extension": ".py",
   "mimetype": "text/x-python",
   "name": "python",
   "nbconvert_exporter": "python",
   "pygments_lexer": "ipython3",
   "version": "3.12.7"
  }
 },
 "nbformat": 4,
 "nbformat_minor": 2
}
