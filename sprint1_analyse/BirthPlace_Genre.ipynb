{
 "cells": [
  {
   "cell_type": "code",
   "execution_count": 9,
   "metadata": {},
   "outputs": [
    {
     "data": {
      "text/html": [
       "<div>\n",
       "<style scoped>\n",
       "    .dataframe tbody tr th:only-of-type {\n",
       "        vertical-align: middle;\n",
       "    }\n",
       "\n",
       "    .dataframe tbody tr th {\n",
       "        vertical-align: top;\n",
       "    }\n",
       "\n",
       "    .dataframe thead th {\n",
       "        text-align: right;\n",
       "    }\n",
       "</style>\n",
       "<table border=\"1\" class=\"dataframe\">\n",
       "  <thead>\n",
       "    <tr style=\"text-align: right;\">\n",
       "      <th></th>\n",
       "      <th>Unnamed: 0</th>\n",
       "      <th>author_average_rating</th>\n",
       "      <th>author_gender</th>\n",
       "      <th>author_genres</th>\n",
       "      <th>author_id</th>\n",
       "      <th>author_name</th>\n",
       "      <th>author_rating_count</th>\n",
       "      <th>author_review_count</th>\n",
       "      <th>birthplace</th>\n",
       "      <th>book_average_rating</th>\n",
       "      <th>book_id</th>\n",
       "      <th>book_title</th>\n",
       "      <th>genre_1</th>\n",
       "      <th>genre_2</th>\n",
       "      <th>num_ratings</th>\n",
       "      <th>num_reviews</th>\n",
       "      <th>pages</th>\n",
       "      <th>publish_date</th>\n",
       "    </tr>\n",
       "  </thead>\n",
       "  <tbody>\n",
       "    <tr>\n",
       "      <th>0</th>\n",
       "      <td>0</td>\n",
       "      <td>4.01</td>\n",
       "      <td>female</td>\n",
       "      <td>historical-fiction,</td>\n",
       "      <td>74489</td>\n",
       "      <td>Victoria Thompson</td>\n",
       "      <td>74399</td>\n",
       "      <td>6268</td>\n",
       "      <td>United States</td>\n",
       "      <td>4.02</td>\n",
       "      <td>686717</td>\n",
       "      <td>Murder on St. Mark's Place</td>\n",
       "      <td>Mystery</td>\n",
       "      <td>Historical</td>\n",
       "      <td>5260</td>\n",
       "      <td>375</td>\n",
       "      <td>277</td>\n",
       "      <td>2000</td>\n",
       "    </tr>\n",
       "    <tr>\n",
       "      <th>1</th>\n",
       "      <td>1</td>\n",
       "      <td>4.15</td>\n",
       "      <td>male</td>\n",
       "      <td>literature-fiction,mystery-thrillers,</td>\n",
       "      <td>706255</td>\n",
       "      <td>Stieg Larsson</td>\n",
       "      <td>3726435</td>\n",
       "      <td>142704</td>\n",
       "      <td>Sweden</td>\n",
       "      <td>4.13</td>\n",
       "      <td>2429135</td>\n",
       "      <td>The Girl with the Dragon Tattoo</td>\n",
       "      <td>Fiction</td>\n",
       "      <td>Mystery</td>\n",
       "      <td>2229163</td>\n",
       "      <td>65227</td>\n",
       "      <td>465</td>\n",
       "      <td>August 2005</td>\n",
       "    </tr>\n",
       "    <tr>\n",
       "      <th>2</th>\n",
       "      <td>2</td>\n",
       "      <td>4.00</td>\n",
       "      <td>female</td>\n",
       "      <td>romance,</td>\n",
       "      <td>5618190</td>\n",
       "      <td>Mimi Jean Pamfiloff</td>\n",
       "      <td>76496</td>\n",
       "      <td>7975</td>\n",
       "      <td>United States</td>\n",
       "      <td>3.99</td>\n",
       "      <td>27833684</td>\n",
       "      <td>Tailored for Trouble</td>\n",
       "      <td>Romance</td>\n",
       "      <td>Contemporary</td>\n",
       "      <td>2151</td>\n",
       "      <td>391</td>\n",
       "      <td>354</td>\n",
       "      <td>2016</td>\n",
       "    </tr>\n",
       "    <tr>\n",
       "      <th>3</th>\n",
       "      <td>3</td>\n",
       "      <td>3.88</td>\n",
       "      <td>male</td>\n",
       "      <td>fiction,memoir,</td>\n",
       "      <td>37871</td>\n",
       "      <td>José Donoso</td>\n",
       "      <td>5522</td>\n",
       "      <td>489</td>\n",
       "      <td>Chile</td>\n",
       "      <td>4.14</td>\n",
       "      <td>382975</td>\n",
       "      <td>The Obscene Bird of Night</td>\n",
       "      <td>Fiction</td>\n",
       "      <td>Magical Realism</td>\n",
       "      <td>1844</td>\n",
       "      <td>173</td>\n",
       "      <td>438</td>\n",
       "      <td>1970</td>\n",
       "    </tr>\n",
       "    <tr>\n",
       "      <th>4</th>\n",
       "      <td>4</td>\n",
       "      <td>4.10</td>\n",
       "      <td>female</td>\n",
       "      <td>young-adult,fantasy,</td>\n",
       "      <td>36122</td>\n",
       "      <td>Patricia C. Wrede</td>\n",
       "      <td>291013</td>\n",
       "      <td>13453</td>\n",
       "      <td>United States</td>\n",
       "      <td>4.01</td>\n",
       "      <td>64207</td>\n",
       "      <td>Sorcery &amp; Cecelia: or The Enchanted Chocolate Pot</td>\n",
       "      <td>Fantasy</td>\n",
       "      <td>Young Adult</td>\n",
       "      <td>17051</td>\n",
       "      <td>1890</td>\n",
       "      <td>326</td>\n",
       "      <td>April 15th 1988</td>\n",
       "    </tr>\n",
       "  </tbody>\n",
       "</table>\n",
       "</div>"
      ],
      "text/plain": [
       "   Unnamed: 0  author_average_rating author_gender  \\\n",
       "0           0                   4.01        female   \n",
       "1           1                   4.15          male   \n",
       "2           2                   4.00        female   \n",
       "3           3                   3.88          male   \n",
       "4           4                   4.10        female   \n",
       "\n",
       "                           author_genres  author_id          author_name  \\\n",
       "0                    historical-fiction,      74489    Victoria Thompson   \n",
       "1  literature-fiction,mystery-thrillers,     706255        Stieg Larsson   \n",
       "2                               romance,    5618190  Mimi Jean Pamfiloff   \n",
       "3                        fiction,memoir,      37871          José Donoso   \n",
       "4                   young-adult,fantasy,      36122    Patricia C. Wrede   \n",
       "\n",
       "   author_rating_count  author_review_count      birthplace  \\\n",
       "0                74399                 6268   United States   \n",
       "1              3726435               142704          Sweden   \n",
       "2                76496                 7975   United States   \n",
       "3                 5522                  489           Chile   \n",
       "4               291013                13453   United States   \n",
       "\n",
       "   book_average_rating   book_id  \\\n",
       "0                 4.02    686717   \n",
       "1                 4.13   2429135   \n",
       "2                 3.99  27833684   \n",
       "3                 4.14    382975   \n",
       "4                 4.01     64207   \n",
       "\n",
       "                                          book_title  genre_1  \\\n",
       "0                         Murder on St. Mark's Place  Mystery   \n",
       "1                    The Girl with the Dragon Tattoo  Fiction   \n",
       "2                               Tailored for Trouble  Romance   \n",
       "3                          The Obscene Bird of Night  Fiction   \n",
       "4  Sorcery & Cecelia: or The Enchanted Chocolate Pot  Fantasy   \n",
       "\n",
       "           genre_2  num_ratings  num_reviews pages     publish_date  \n",
       "0       Historical         5260          375   277             2000  \n",
       "1          Mystery      2229163        65227   465      August 2005  \n",
       "2     Contemporary         2151          391   354             2016  \n",
       "3  Magical Realism         1844          173   438             1970  \n",
       "4      Young Adult        17051         1890   326  April 15th 1988  "
      ]
     },
     "metadata": {},
     "output_type": "display_data"
    }
   ],
   "source": [
    "import pandas as pd\n",
    "import numpy as np\n",
    "import matplotlib.pyplot as plt\n",
    "import plotly.express as px\n",
    "from factor_analyzer import FactorAnalyzer\n",
    "from factor_analyzer.factor_analyzer import calculate_bartlett_sphericity\n",
    "from fanalysis.ca import CA\n",
    "\n",
    "\n",
    "## Load the data\n",
    "df = pd.read_csv(\"../new_data/CleanedAuthors.csv\")\n",
    "\n",
    "display(df.head())"
   ]
  },
  {
   "cell_type": "code",
   "execution_count": 10,
   "metadata": {},
   "outputs": [
    {
     "data": {
      "text/html": [
       "<div>\n",
       "<style scoped>\n",
       "    .dataframe tbody tr th:only-of-type {\n",
       "        vertical-align: middle;\n",
       "    }\n",
       "\n",
       "    .dataframe tbody tr th {\n",
       "        vertical-align: top;\n",
       "    }\n",
       "\n",
       "    .dataframe thead th {\n",
       "        text-align: right;\n",
       "    }\n",
       "</style>\n",
       "<table border=\"1\" class=\"dataframe\">\n",
       "  <thead>\n",
       "    <tr style=\"text-align: right;\">\n",
       "      <th></th>\n",
       "      <th>birthplace</th>\n",
       "      <th>genre_1</th>\n",
       "      <th>continent</th>\n",
       "    </tr>\n",
       "  </thead>\n",
       "  <tbody>\n",
       "    <tr>\n",
       "      <th>0</th>\n",
       "      <td>United States</td>\n",
       "      <td>Mystery</td>\n",
       "      <td>United States</td>\n",
       "    </tr>\n",
       "    <tr>\n",
       "      <th>1</th>\n",
       "      <td>Sweden</td>\n",
       "      <td>Fiction</td>\n",
       "      <td>Europe</td>\n",
       "    </tr>\n",
       "    <tr>\n",
       "      <th>2</th>\n",
       "      <td>United States</td>\n",
       "      <td>Romance</td>\n",
       "      <td>United States</td>\n",
       "    </tr>\n",
       "    <tr>\n",
       "      <th>3</th>\n",
       "      <td>Chile</td>\n",
       "      <td>Fiction</td>\n",
       "      <td>South America</td>\n",
       "    </tr>\n",
       "    <tr>\n",
       "      <th>4</th>\n",
       "      <td>United States</td>\n",
       "      <td>Fantasy</td>\n",
       "      <td>United States</td>\n",
       "    </tr>\n",
       "  </tbody>\n",
       "</table>\n",
       "</div>"
      ],
      "text/plain": [
       "       birthplace  genre_1      continent\n",
       "0   United States  Mystery  United States\n",
       "1          Sweden  Fiction         Europe\n",
       "2   United States  Romance  United States\n",
       "3           Chile  Fiction  South America\n",
       "4   United States  Fantasy  United States"
      ]
     },
     "metadata": {},
     "output_type": "display_data"
    },
    {
     "data": {
      "text/plain": [
       "continent\n",
       "United States     11471\n",
       "United Kingdom     2164\n",
       "Europe             1316\n",
       "Asia               1181\n",
       "North America       755\n",
       "Oceania             506\n",
       "Africa              458\n",
       "South America        85\n",
       "Name: count, dtype: int64"
      ]
     },
     "metadata": {},
     "output_type": "display_data"
    }
   ],
   "source": [
    "import pycountry_convert as pc\n",
    "\n",
    "# Function to get continent\n",
    "def get_continent(country_name):\n",
    "    try:\n",
    "        ## enlever les espaces\n",
    "        country_name = country_name.strip()  \n",
    "        # si c'est les United States on les laisse a part\n",
    "        if country_name == 'United States':\n",
    "            return 'United States'\n",
    "        # pareil pour United Kingdom\n",
    "        if country_name == 'United Kingdom':\n",
    "            return 'United Kingdom'      \n",
    "        # Obtenir le code alpha-2 du pays (ISO 3166)\n",
    "        country_code = pc.country_name_to_country_alpha2(country_name, cn_name_format=\"default\")\n",
    "        # Obtenir le code du continent à partir du code alpha-2 du pays\n",
    "        continent_code = pc.country_alpha2_to_continent_code(country_code)\n",
    "        # Mapper le code du continent à son nom\n",
    "        continent_name = pc.convert_continent_code_to_continent_name(continent_code)\n",
    "        return continent_name\n",
    "    except Exception as e:\n",
    "        return None  # Si le pays n'est pas trouvé ou autre erreur, retourner None\n",
    "\n",
    "# Keep only the necessary columns\n",
    "df = df[['birthplace', 'genre_1']]\n",
    "\n",
    "# Apply the function to get the continent\n",
    "df['continent'] = df['birthplace'].apply(get_continent)\n",
    "\n",
    "\n",
    "# display the first 5 rows\n",
    "display(df.head())\n",
    "\n",
    "\n",
    "display(df['continent'].value_counts())"
   ]
  },
  {
   "cell_type": "code",
   "execution_count": 11,
   "metadata": {},
   "outputs": [
    {
     "data": {
      "text/html": [
       "<div>\n",
       "<style scoped>\n",
       "    .dataframe tbody tr th:only-of-type {\n",
       "        vertical-align: middle;\n",
       "    }\n",
       "\n",
       "    .dataframe tbody tr th {\n",
       "        vertical-align: top;\n",
       "    }\n",
       "\n",
       "    .dataframe thead th {\n",
       "        text-align: right;\n",
       "    }\n",
       "</style>\n",
       "<table border=\"1\" class=\"dataframe\">\n",
       "  <thead>\n",
       "    <tr style=\"text-align: right;\">\n",
       "      <th>genre_1</th>\n",
       "      <th>Adult</th>\n",
       "      <th>Adult Fiction</th>\n",
       "      <th>Adventure</th>\n",
       "      <th>Amish</th>\n",
       "      <th>Animals</th>\n",
       "      <th>Anthologies</th>\n",
       "      <th>Apocalyptic</th>\n",
       "      <th>Art</th>\n",
       "      <th>Asian Literature</th>\n",
       "      <th>Autobiography</th>\n",
       "      <th>...</th>\n",
       "      <th>Thriller</th>\n",
       "      <th>Travel</th>\n",
       "      <th>United States</th>\n",
       "      <th>War</th>\n",
       "      <th>Warfare</th>\n",
       "      <th>Westerns</th>\n",
       "      <th>Womens Fiction</th>\n",
       "      <th>World War II</th>\n",
       "      <th>Writing</th>\n",
       "      <th>Young Adult</th>\n",
       "    </tr>\n",
       "    <tr>\n",
       "      <th>continent</th>\n",
       "      <th></th>\n",
       "      <th></th>\n",
       "      <th></th>\n",
       "      <th></th>\n",
       "      <th></th>\n",
       "      <th></th>\n",
       "      <th></th>\n",
       "      <th></th>\n",
       "      <th></th>\n",
       "      <th></th>\n",
       "      <th></th>\n",
       "      <th></th>\n",
       "      <th></th>\n",
       "      <th></th>\n",
       "      <th></th>\n",
       "      <th></th>\n",
       "      <th></th>\n",
       "      <th></th>\n",
       "      <th></th>\n",
       "      <th></th>\n",
       "      <th></th>\n",
       "    </tr>\n",
       "  </thead>\n",
       "  <tbody>\n",
       "    <tr>\n",
       "      <th>Africa</th>\n",
       "      <td>0</td>\n",
       "      <td>1</td>\n",
       "      <td>1</td>\n",
       "      <td>0</td>\n",
       "      <td>1</td>\n",
       "      <td>1</td>\n",
       "      <td>0</td>\n",
       "      <td>0</td>\n",
       "      <td>1</td>\n",
       "      <td>0</td>\n",
       "      <td>...</td>\n",
       "      <td>1</td>\n",
       "      <td>5</td>\n",
       "      <td>0</td>\n",
       "      <td>0</td>\n",
       "      <td>0</td>\n",
       "      <td>0</td>\n",
       "      <td>0</td>\n",
       "      <td>0</td>\n",
       "      <td>0</td>\n",
       "      <td>16</td>\n",
       "    </tr>\n",
       "    <tr>\n",
       "      <th>Asia</th>\n",
       "      <td>0</td>\n",
       "      <td>0</td>\n",
       "      <td>0</td>\n",
       "      <td>0</td>\n",
       "      <td>0</td>\n",
       "      <td>0</td>\n",
       "      <td>0</td>\n",
       "      <td>1</td>\n",
       "      <td>50</td>\n",
       "      <td>2</td>\n",
       "      <td>...</td>\n",
       "      <td>5</td>\n",
       "      <td>4</td>\n",
       "      <td>0</td>\n",
       "      <td>2</td>\n",
       "      <td>0</td>\n",
       "      <td>0</td>\n",
       "      <td>1</td>\n",
       "      <td>0</td>\n",
       "      <td>0</td>\n",
       "      <td>22</td>\n",
       "    </tr>\n",
       "    <tr>\n",
       "      <th>Europe</th>\n",
       "      <td>0</td>\n",
       "      <td>5</td>\n",
       "      <td>2</td>\n",
       "      <td>0</td>\n",
       "      <td>1</td>\n",
       "      <td>1</td>\n",
       "      <td>0</td>\n",
       "      <td>2</td>\n",
       "      <td>1</td>\n",
       "      <td>5</td>\n",
       "      <td>...</td>\n",
       "      <td>5</td>\n",
       "      <td>5</td>\n",
       "      <td>0</td>\n",
       "      <td>0</td>\n",
       "      <td>0</td>\n",
       "      <td>0</td>\n",
       "      <td>3</td>\n",
       "      <td>6</td>\n",
       "      <td>0</td>\n",
       "      <td>35</td>\n",
       "    </tr>\n",
       "    <tr>\n",
       "      <th>North America</th>\n",
       "      <td>0</td>\n",
       "      <td>5</td>\n",
       "      <td>0</td>\n",
       "      <td>0</td>\n",
       "      <td>5</td>\n",
       "      <td>0</td>\n",
       "      <td>0</td>\n",
       "      <td>0</td>\n",
       "      <td>0</td>\n",
       "      <td>0</td>\n",
       "      <td>...</td>\n",
       "      <td>10</td>\n",
       "      <td>3</td>\n",
       "      <td>0</td>\n",
       "      <td>1</td>\n",
       "      <td>0</td>\n",
       "      <td>1</td>\n",
       "      <td>3</td>\n",
       "      <td>0</td>\n",
       "      <td>0</td>\n",
       "      <td>89</td>\n",
       "    </tr>\n",
       "    <tr>\n",
       "      <th>Oceania</th>\n",
       "      <td>0</td>\n",
       "      <td>1</td>\n",
       "      <td>2</td>\n",
       "      <td>0</td>\n",
       "      <td>1</td>\n",
       "      <td>0</td>\n",
       "      <td>0</td>\n",
       "      <td>0</td>\n",
       "      <td>0</td>\n",
       "      <td>2</td>\n",
       "      <td>...</td>\n",
       "      <td>5</td>\n",
       "      <td>1</td>\n",
       "      <td>0</td>\n",
       "      <td>0</td>\n",
       "      <td>0</td>\n",
       "      <td>0</td>\n",
       "      <td>0</td>\n",
       "      <td>0</td>\n",
       "      <td>0</td>\n",
       "      <td>48</td>\n",
       "    </tr>\n",
       "    <tr>\n",
       "      <th>South America</th>\n",
       "      <td>0</td>\n",
       "      <td>0</td>\n",
       "      <td>1</td>\n",
       "      <td>0</td>\n",
       "      <td>0</td>\n",
       "      <td>0</td>\n",
       "      <td>0</td>\n",
       "      <td>1</td>\n",
       "      <td>0</td>\n",
       "      <td>1</td>\n",
       "      <td>...</td>\n",
       "      <td>0</td>\n",
       "      <td>0</td>\n",
       "      <td>0</td>\n",
       "      <td>0</td>\n",
       "      <td>0</td>\n",
       "      <td>0</td>\n",
       "      <td>2</td>\n",
       "      <td>0</td>\n",
       "      <td>0</td>\n",
       "      <td>2</td>\n",
       "    </tr>\n",
       "    <tr>\n",
       "      <th>United Kingdom</th>\n",
       "      <td>1</td>\n",
       "      <td>14</td>\n",
       "      <td>9</td>\n",
       "      <td>0</td>\n",
       "      <td>5</td>\n",
       "      <td>0</td>\n",
       "      <td>0</td>\n",
       "      <td>0</td>\n",
       "      <td>0</td>\n",
       "      <td>11</td>\n",
       "      <td>...</td>\n",
       "      <td>34</td>\n",
       "      <td>18</td>\n",
       "      <td>0</td>\n",
       "      <td>3</td>\n",
       "      <td>0</td>\n",
       "      <td>0</td>\n",
       "      <td>35</td>\n",
       "      <td>0</td>\n",
       "      <td>1</td>\n",
       "      <td>103</td>\n",
       "    </tr>\n",
       "    <tr>\n",
       "      <th>United States</th>\n",
       "      <td>1</td>\n",
       "      <td>45</td>\n",
       "      <td>11</td>\n",
       "      <td>7</td>\n",
       "      <td>27</td>\n",
       "      <td>11</td>\n",
       "      <td>3</td>\n",
       "      <td>4</td>\n",
       "      <td>2</td>\n",
       "      <td>59</td>\n",
       "      <td>...</td>\n",
       "      <td>66</td>\n",
       "      <td>26</td>\n",
       "      <td>1</td>\n",
       "      <td>10</td>\n",
       "      <td>5</td>\n",
       "      <td>11</td>\n",
       "      <td>40</td>\n",
       "      <td>3</td>\n",
       "      <td>3</td>\n",
       "      <td>1441</td>\n",
       "    </tr>\n",
       "  </tbody>\n",
       "</table>\n",
       "<p>8 rows × 118 columns</p>\n",
       "</div>"
      ],
      "text/plain": [
       "genre_1         Adult  Adult Fiction  Adventure  Amish  Animals  Anthologies  \\\n",
       "continent                                                                      \n",
       "Africa              0              1          1      0        1            1   \n",
       "Asia                0              0          0      0        0            0   \n",
       "Europe              0              5          2      0        1            1   \n",
       "North America       0              5          0      0        5            0   \n",
       "Oceania             0              1          2      0        1            0   \n",
       "South America       0              0          1      0        0            0   \n",
       "United Kingdom      1             14          9      0        5            0   \n",
       "United States       1             45         11      7       27           11   \n",
       "\n",
       "genre_1         Apocalyptic  Art  Asian Literature  Autobiography  ...  \\\n",
       "continent                                                          ...   \n",
       "Africa                    0    0                 1              0  ...   \n",
       "Asia                      0    1                50              2  ...   \n",
       "Europe                    0    2                 1              5  ...   \n",
       "North America             0    0                 0              0  ...   \n",
       "Oceania                   0    0                 0              2  ...   \n",
       "South America             0    1                 0              1  ...   \n",
       "United Kingdom            0    0                 0             11  ...   \n",
       "United States             3    4                 2             59  ...   \n",
       "\n",
       "genre_1         Thriller  Travel  United States  War  Warfare  Westerns  \\\n",
       "continent                                                                 \n",
       "Africa                 1       5              0    0        0         0   \n",
       "Asia                   5       4              0    2        0         0   \n",
       "Europe                 5       5              0    0        0         0   \n",
       "North America         10       3              0    1        0         1   \n",
       "Oceania                5       1              0    0        0         0   \n",
       "South America          0       0              0    0        0         0   \n",
       "United Kingdom        34      18              0    3        0         0   \n",
       "United States         66      26              1   10        5        11   \n",
       "\n",
       "genre_1         Womens Fiction  World War II  Writing  Young Adult  \n",
       "continent                                                           \n",
       "Africa                       0             0        0           16  \n",
       "Asia                         1             0        0           22  \n",
       "Europe                       3             6        0           35  \n",
       "North America                3             0        0           89  \n",
       "Oceania                      0             0        0           48  \n",
       "South America                2             0        0            2  \n",
       "United Kingdom              35             0        1          103  \n",
       "United States               40             3        3         1441  \n",
       "\n",
       "[8 rows x 118 columns]"
      ]
     },
     "metadata": {},
     "output_type": "display_data"
    }
   ],
   "source": [
    "# Create a contingency table\n",
    "contingency_table = pd.crosstab(df['continent'], df['genre_1'])\n",
    "display(contingency_table)"
   ]
  },
  {
   "cell_type": "code",
   "execution_count": 12,
   "metadata": {},
   "outputs": [],
   "source": [
    "# standardize the data\n",
    "temp = contingency_table.sub(contingency_table.mean())\n",
    "data_scaled = temp.div(contingency_table.std())"
   ]
  },
  {
   "cell_type": "code",
   "execution_count": 13,
   "metadata": {},
   "outputs": [
    {
     "name": "stdout",
     "output_type": "stream",
     "text": [
      "1.0\n"
     ]
    },
    {
     "name": "stderr",
     "output_type": "stream",
     "text": [
      "/usr/local/lib/python3.12/site-packages/factor_analyzer/factor_analyzer.py:109: RuntimeWarning:\n",
      "\n",
      "divide by zero encountered in log\n",
      "\n"
     ]
    }
   ],
   "source": [
    "# p_value\n",
    "chi_square_value, p_value = calculate_bartlett_sphericity(data_scaled)\n",
    "print(p_value)"
   ]
  },
  {
   "cell_type": "code",
   "execution_count": 14,
   "metadata": {},
   "outputs": [
    {
     "data": {
      "text/html": [
       "<style>#sk-container-id-2 {\n",
       "  /* Definition of color scheme common for light and dark mode */\n",
       "  --sklearn-color-text: black;\n",
       "  --sklearn-color-line: gray;\n",
       "  /* Definition of color scheme for unfitted estimators */\n",
       "  --sklearn-color-unfitted-level-0: #fff5e6;\n",
       "  --sklearn-color-unfitted-level-1: #f6e4d2;\n",
       "  --sklearn-color-unfitted-level-2: #ffe0b3;\n",
       "  --sklearn-color-unfitted-level-3: chocolate;\n",
       "  /* Definition of color scheme for fitted estimators */\n",
       "  --sklearn-color-fitted-level-0: #f0f8ff;\n",
       "  --sklearn-color-fitted-level-1: #d4ebff;\n",
       "  --sklearn-color-fitted-level-2: #b3dbfd;\n",
       "  --sklearn-color-fitted-level-3: cornflowerblue;\n",
       "\n",
       "  /* Specific color for light theme */\n",
       "  --sklearn-color-text-on-default-background: var(--sg-text-color, var(--theme-code-foreground, var(--jp-content-font-color1, black)));\n",
       "  --sklearn-color-background: var(--sg-background-color, var(--theme-background, var(--jp-layout-color0, white)));\n",
       "  --sklearn-color-border-box: var(--sg-text-color, var(--theme-code-foreground, var(--jp-content-font-color1, black)));\n",
       "  --sklearn-color-icon: #696969;\n",
       "\n",
       "  @media (prefers-color-scheme: dark) {\n",
       "    /* Redefinition of color scheme for dark theme */\n",
       "    --sklearn-color-text-on-default-background: var(--sg-text-color, var(--theme-code-foreground, var(--jp-content-font-color1, white)));\n",
       "    --sklearn-color-background: var(--sg-background-color, var(--theme-background, var(--jp-layout-color0, #111)));\n",
       "    --sklearn-color-border-box: var(--sg-text-color, var(--theme-code-foreground, var(--jp-content-font-color1, white)));\n",
       "    --sklearn-color-icon: #878787;\n",
       "  }\n",
       "}\n",
       "\n",
       "#sk-container-id-2 {\n",
       "  color: var(--sklearn-color-text);\n",
       "}\n",
       "\n",
       "#sk-container-id-2 pre {\n",
       "  padding: 0;\n",
       "}\n",
       "\n",
       "#sk-container-id-2 input.sk-hidden--visually {\n",
       "  border: 0;\n",
       "  clip: rect(1px 1px 1px 1px);\n",
       "  clip: rect(1px, 1px, 1px, 1px);\n",
       "  height: 1px;\n",
       "  margin: -1px;\n",
       "  overflow: hidden;\n",
       "  padding: 0;\n",
       "  position: absolute;\n",
       "  width: 1px;\n",
       "}\n",
       "\n",
       "#sk-container-id-2 div.sk-dashed-wrapped {\n",
       "  border: 1px dashed var(--sklearn-color-line);\n",
       "  margin: 0 0.4em 0.5em 0.4em;\n",
       "  box-sizing: border-box;\n",
       "  padding-bottom: 0.4em;\n",
       "  background-color: var(--sklearn-color-background);\n",
       "}\n",
       "\n",
       "#sk-container-id-2 div.sk-container {\n",
       "  /* jupyter's `normalize.less` sets `[hidden] { display: none; }`\n",
       "     but bootstrap.min.css set `[hidden] { display: none !important; }`\n",
       "     so we also need the `!important` here to be able to override the\n",
       "     default hidden behavior on the sphinx rendered scikit-learn.org.\n",
       "     See: https://github.com/scikit-learn/scikit-learn/issues/21755 */\n",
       "  display: inline-block !important;\n",
       "  position: relative;\n",
       "}\n",
       "\n",
       "#sk-container-id-2 div.sk-text-repr-fallback {\n",
       "  display: none;\n",
       "}\n",
       "\n",
       "div.sk-parallel-item,\n",
       "div.sk-serial,\n",
       "div.sk-item {\n",
       "  /* draw centered vertical line to link estimators */\n",
       "  background-image: linear-gradient(var(--sklearn-color-text-on-default-background), var(--sklearn-color-text-on-default-background));\n",
       "  background-size: 2px 100%;\n",
       "  background-repeat: no-repeat;\n",
       "  background-position: center center;\n",
       "}\n",
       "\n",
       "/* Parallel-specific style estimator block */\n",
       "\n",
       "#sk-container-id-2 div.sk-parallel-item::after {\n",
       "  content: \"\";\n",
       "  width: 100%;\n",
       "  border-bottom: 2px solid var(--sklearn-color-text-on-default-background);\n",
       "  flex-grow: 1;\n",
       "}\n",
       "\n",
       "#sk-container-id-2 div.sk-parallel {\n",
       "  display: flex;\n",
       "  align-items: stretch;\n",
       "  justify-content: center;\n",
       "  background-color: var(--sklearn-color-background);\n",
       "  position: relative;\n",
       "}\n",
       "\n",
       "#sk-container-id-2 div.sk-parallel-item {\n",
       "  display: flex;\n",
       "  flex-direction: column;\n",
       "}\n",
       "\n",
       "#sk-container-id-2 div.sk-parallel-item:first-child::after {\n",
       "  align-self: flex-end;\n",
       "  width: 50%;\n",
       "}\n",
       "\n",
       "#sk-container-id-2 div.sk-parallel-item:last-child::after {\n",
       "  align-self: flex-start;\n",
       "  width: 50%;\n",
       "}\n",
       "\n",
       "#sk-container-id-2 div.sk-parallel-item:only-child::after {\n",
       "  width: 0;\n",
       "}\n",
       "\n",
       "/* Serial-specific style estimator block */\n",
       "\n",
       "#sk-container-id-2 div.sk-serial {\n",
       "  display: flex;\n",
       "  flex-direction: column;\n",
       "  align-items: center;\n",
       "  background-color: var(--sklearn-color-background);\n",
       "  padding-right: 1em;\n",
       "  padding-left: 1em;\n",
       "}\n",
       "\n",
       "\n",
       "/* Toggleable style: style used for estimator/Pipeline/ColumnTransformer box that is\n",
       "clickable and can be expanded/collapsed.\n",
       "- Pipeline and ColumnTransformer use this feature and define the default style\n",
       "- Estimators will overwrite some part of the style using the `sk-estimator` class\n",
       "*/\n",
       "\n",
       "/* Pipeline and ColumnTransformer style (default) */\n",
       "\n",
       "#sk-container-id-2 div.sk-toggleable {\n",
       "  /* Default theme specific background. It is overwritten whether we have a\n",
       "  specific estimator or a Pipeline/ColumnTransformer */\n",
       "  background-color: var(--sklearn-color-background);\n",
       "}\n",
       "\n",
       "/* Toggleable label */\n",
       "#sk-container-id-2 label.sk-toggleable__label {\n",
       "  cursor: pointer;\n",
       "  display: block;\n",
       "  width: 100%;\n",
       "  margin-bottom: 0;\n",
       "  padding: 0.5em;\n",
       "  box-sizing: border-box;\n",
       "  text-align: center;\n",
       "}\n",
       "\n",
       "#sk-container-id-2 label.sk-toggleable__label-arrow:before {\n",
       "  /* Arrow on the left of the label */\n",
       "  content: \"▸\";\n",
       "  float: left;\n",
       "  margin-right: 0.25em;\n",
       "  color: var(--sklearn-color-icon);\n",
       "}\n",
       "\n",
       "#sk-container-id-2 label.sk-toggleable__label-arrow:hover:before {\n",
       "  color: var(--sklearn-color-text);\n",
       "}\n",
       "\n",
       "/* Toggleable content - dropdown */\n",
       "\n",
       "#sk-container-id-2 div.sk-toggleable__content {\n",
       "  max-height: 0;\n",
       "  max-width: 0;\n",
       "  overflow: hidden;\n",
       "  text-align: left;\n",
       "  /* unfitted */\n",
       "  background-color: var(--sklearn-color-unfitted-level-0);\n",
       "}\n",
       "\n",
       "#sk-container-id-2 div.sk-toggleable__content.fitted {\n",
       "  /* fitted */\n",
       "  background-color: var(--sklearn-color-fitted-level-0);\n",
       "}\n",
       "\n",
       "#sk-container-id-2 div.sk-toggleable__content pre {\n",
       "  margin: 0.2em;\n",
       "  border-radius: 0.25em;\n",
       "  color: var(--sklearn-color-text);\n",
       "  /* unfitted */\n",
       "  background-color: var(--sklearn-color-unfitted-level-0);\n",
       "}\n",
       "\n",
       "#sk-container-id-2 div.sk-toggleable__content.fitted pre {\n",
       "  /* unfitted */\n",
       "  background-color: var(--sklearn-color-fitted-level-0);\n",
       "}\n",
       "\n",
       "#sk-container-id-2 input.sk-toggleable__control:checked~div.sk-toggleable__content {\n",
       "  /* Expand drop-down */\n",
       "  max-height: 200px;\n",
       "  max-width: 100%;\n",
       "  overflow: auto;\n",
       "}\n",
       "\n",
       "#sk-container-id-2 input.sk-toggleable__control:checked~label.sk-toggleable__label-arrow:before {\n",
       "  content: \"▾\";\n",
       "}\n",
       "\n",
       "/* Pipeline/ColumnTransformer-specific style */\n",
       "\n",
       "#sk-container-id-2 div.sk-label input.sk-toggleable__control:checked~label.sk-toggleable__label {\n",
       "  color: var(--sklearn-color-text);\n",
       "  background-color: var(--sklearn-color-unfitted-level-2);\n",
       "}\n",
       "\n",
       "#sk-container-id-2 div.sk-label.fitted input.sk-toggleable__control:checked~label.sk-toggleable__label {\n",
       "  background-color: var(--sklearn-color-fitted-level-2);\n",
       "}\n",
       "\n",
       "/* Estimator-specific style */\n",
       "\n",
       "/* Colorize estimator box */\n",
       "#sk-container-id-2 div.sk-estimator input.sk-toggleable__control:checked~label.sk-toggleable__label {\n",
       "  /* unfitted */\n",
       "  background-color: var(--sklearn-color-unfitted-level-2);\n",
       "}\n",
       "\n",
       "#sk-container-id-2 div.sk-estimator.fitted input.sk-toggleable__control:checked~label.sk-toggleable__label {\n",
       "  /* fitted */\n",
       "  background-color: var(--sklearn-color-fitted-level-2);\n",
       "}\n",
       "\n",
       "#sk-container-id-2 div.sk-label label.sk-toggleable__label,\n",
       "#sk-container-id-2 div.sk-label label {\n",
       "  /* The background is the default theme color */\n",
       "  color: var(--sklearn-color-text-on-default-background);\n",
       "}\n",
       "\n",
       "/* On hover, darken the color of the background */\n",
       "#sk-container-id-2 div.sk-label:hover label.sk-toggleable__label {\n",
       "  color: var(--sklearn-color-text);\n",
       "  background-color: var(--sklearn-color-unfitted-level-2);\n",
       "}\n",
       "\n",
       "/* Label box, darken color on hover, fitted */\n",
       "#sk-container-id-2 div.sk-label.fitted:hover label.sk-toggleable__label.fitted {\n",
       "  color: var(--sklearn-color-text);\n",
       "  background-color: var(--sklearn-color-fitted-level-2);\n",
       "}\n",
       "\n",
       "/* Estimator label */\n",
       "\n",
       "#sk-container-id-2 div.sk-label label {\n",
       "  font-family: monospace;\n",
       "  font-weight: bold;\n",
       "  display: inline-block;\n",
       "  line-height: 1.2em;\n",
       "}\n",
       "\n",
       "#sk-container-id-2 div.sk-label-container {\n",
       "  text-align: center;\n",
       "}\n",
       "\n",
       "/* Estimator-specific */\n",
       "#sk-container-id-2 div.sk-estimator {\n",
       "  font-family: monospace;\n",
       "  border: 1px dotted var(--sklearn-color-border-box);\n",
       "  border-radius: 0.25em;\n",
       "  box-sizing: border-box;\n",
       "  margin-bottom: 0.5em;\n",
       "  /* unfitted */\n",
       "  background-color: var(--sklearn-color-unfitted-level-0);\n",
       "}\n",
       "\n",
       "#sk-container-id-2 div.sk-estimator.fitted {\n",
       "  /* fitted */\n",
       "  background-color: var(--sklearn-color-fitted-level-0);\n",
       "}\n",
       "\n",
       "/* on hover */\n",
       "#sk-container-id-2 div.sk-estimator:hover {\n",
       "  /* unfitted */\n",
       "  background-color: var(--sklearn-color-unfitted-level-2);\n",
       "}\n",
       "\n",
       "#sk-container-id-2 div.sk-estimator.fitted:hover {\n",
       "  /* fitted */\n",
       "  background-color: var(--sklearn-color-fitted-level-2);\n",
       "}\n",
       "\n",
       "/* Specification for estimator info (e.g. \"i\" and \"?\") */\n",
       "\n",
       "/* Common style for \"i\" and \"?\" */\n",
       "\n",
       ".sk-estimator-doc-link,\n",
       "a:link.sk-estimator-doc-link,\n",
       "a:visited.sk-estimator-doc-link {\n",
       "  float: right;\n",
       "  font-size: smaller;\n",
       "  line-height: 1em;\n",
       "  font-family: monospace;\n",
       "  background-color: var(--sklearn-color-background);\n",
       "  border-radius: 1em;\n",
       "  height: 1em;\n",
       "  width: 1em;\n",
       "  text-decoration: none !important;\n",
       "  margin-left: 1ex;\n",
       "  /* unfitted */\n",
       "  border: var(--sklearn-color-unfitted-level-1) 1pt solid;\n",
       "  color: var(--sklearn-color-unfitted-level-1);\n",
       "}\n",
       "\n",
       ".sk-estimator-doc-link.fitted,\n",
       "a:link.sk-estimator-doc-link.fitted,\n",
       "a:visited.sk-estimator-doc-link.fitted {\n",
       "  /* fitted */\n",
       "  border: var(--sklearn-color-fitted-level-1) 1pt solid;\n",
       "  color: var(--sklearn-color-fitted-level-1);\n",
       "}\n",
       "\n",
       "/* On hover */\n",
       "div.sk-estimator:hover .sk-estimator-doc-link:hover,\n",
       ".sk-estimator-doc-link:hover,\n",
       "div.sk-label-container:hover .sk-estimator-doc-link:hover,\n",
       ".sk-estimator-doc-link:hover {\n",
       "  /* unfitted */\n",
       "  background-color: var(--sklearn-color-unfitted-level-3);\n",
       "  color: var(--sklearn-color-background);\n",
       "  text-decoration: none;\n",
       "}\n",
       "\n",
       "div.sk-estimator.fitted:hover .sk-estimator-doc-link.fitted:hover,\n",
       ".sk-estimator-doc-link.fitted:hover,\n",
       "div.sk-label-container:hover .sk-estimator-doc-link.fitted:hover,\n",
       ".sk-estimator-doc-link.fitted:hover {\n",
       "  /* fitted */\n",
       "  background-color: var(--sklearn-color-fitted-level-3);\n",
       "  color: var(--sklearn-color-background);\n",
       "  text-decoration: none;\n",
       "}\n",
       "\n",
       "/* Span, style for the box shown on hovering the info icon */\n",
       ".sk-estimator-doc-link span {\n",
       "  display: none;\n",
       "  z-index: 9999;\n",
       "  position: relative;\n",
       "  font-weight: normal;\n",
       "  right: .2ex;\n",
       "  padding: .5ex;\n",
       "  margin: .5ex;\n",
       "  width: min-content;\n",
       "  min-width: 20ex;\n",
       "  max-width: 50ex;\n",
       "  color: var(--sklearn-color-text);\n",
       "  box-shadow: 2pt 2pt 4pt #999;\n",
       "  /* unfitted */\n",
       "  background: var(--sklearn-color-unfitted-level-0);\n",
       "  border: .5pt solid var(--sklearn-color-unfitted-level-3);\n",
       "}\n",
       "\n",
       ".sk-estimator-doc-link.fitted span {\n",
       "  /* fitted */\n",
       "  background: var(--sklearn-color-fitted-level-0);\n",
       "  border: var(--sklearn-color-fitted-level-3);\n",
       "}\n",
       "\n",
       ".sk-estimator-doc-link:hover span {\n",
       "  display: block;\n",
       "}\n",
       "\n",
       "/* \"?\"-specific style due to the `<a>` HTML tag */\n",
       "\n",
       "#sk-container-id-2 a.estimator_doc_link {\n",
       "  float: right;\n",
       "  font-size: 1rem;\n",
       "  line-height: 1em;\n",
       "  font-family: monospace;\n",
       "  background-color: var(--sklearn-color-background);\n",
       "  border-radius: 1rem;\n",
       "  height: 1rem;\n",
       "  width: 1rem;\n",
       "  text-decoration: none;\n",
       "  /* unfitted */\n",
       "  color: var(--sklearn-color-unfitted-level-1);\n",
       "  border: var(--sklearn-color-unfitted-level-1) 1pt solid;\n",
       "}\n",
       "\n",
       "#sk-container-id-2 a.estimator_doc_link.fitted {\n",
       "  /* fitted */\n",
       "  border: var(--sklearn-color-fitted-level-1) 1pt solid;\n",
       "  color: var(--sklearn-color-fitted-level-1);\n",
       "}\n",
       "\n",
       "/* On hover */\n",
       "#sk-container-id-2 a.estimator_doc_link:hover {\n",
       "  /* unfitted */\n",
       "  background-color: var(--sklearn-color-unfitted-level-3);\n",
       "  color: var(--sklearn-color-background);\n",
       "  text-decoration: none;\n",
       "}\n",
       "\n",
       "#sk-container-id-2 a.estimator_doc_link.fitted:hover {\n",
       "  /* fitted */\n",
       "  background-color: var(--sklearn-color-fitted-level-3);\n",
       "}\n",
       "</style><div id=\"sk-container-id-2\" class=\"sk-top-container\"><div class=\"sk-text-repr-fallback\"><pre>CA(col_labels=Index([&#x27;Adult&#x27;, &#x27;Adult Fiction&#x27;, &#x27;Adventure&#x27;, &#x27;Amish&#x27;, &#x27;Animals&#x27;,\n",
       "       &#x27;Anthologies&#x27;, &#x27;Apocalyptic&#x27;, &#x27;Art&#x27;, &#x27;Asian Literature&#x27;,\n",
       "       &#x27;Autobiography&#x27;,\n",
       "       ...\n",
       "       &#x27;Thriller&#x27;, &#x27;Travel&#x27;, &#x27;United States&#x27;, &#x27;War&#x27;, &#x27;Warfare&#x27;, &#x27;Westerns&#x27;,\n",
       "       &#x27;Womens Fiction&#x27;, &#x27;World War II&#x27;, &#x27;Writing&#x27;, &#x27;Young Adult&#x27;],\n",
       "      dtype=&#x27;object&#x27;, name=&#x27;genre_1&#x27;, length=118),\n",
       "   row_labels=Index([&#x27;Africa&#x27;, &#x27;Asia&#x27;, &#x27;Europe&#x27;, &#x27;North America&#x27;, &#x27;Oceania&#x27;, &#x27;South America&#x27;,\n",
       "       &#x27;United Kingdom&#x27;, &#x27;United States&#x27;],\n",
       "      dtype=&#x27;object&#x27;, name=&#x27;continent&#x27;))</pre><b>In a Jupyter environment, please rerun this cell to show the HTML representation or trust the notebook. <br />On GitHub, the HTML representation is unable to render, please try loading this page with nbviewer.org.</b></div><div class=\"sk-container\" hidden><div class=\"sk-item\"><div class=\"sk-estimator fitted sk-toggleable\"><input class=\"sk-toggleable__control sk-hidden--visually\" id=\"sk-estimator-id-2\" type=\"checkbox\" checked><label for=\"sk-estimator-id-2\" class=\"sk-toggleable__label fitted sk-toggleable__label-arrow fitted\">&nbsp;CA<span class=\"sk-estimator-doc-link fitted\">i<span>Fitted</span></span></label><div class=\"sk-toggleable__content fitted\"><pre>CA(col_labels=Index([&#x27;Adult&#x27;, &#x27;Adult Fiction&#x27;, &#x27;Adventure&#x27;, &#x27;Amish&#x27;, &#x27;Animals&#x27;,\n",
       "       &#x27;Anthologies&#x27;, &#x27;Apocalyptic&#x27;, &#x27;Art&#x27;, &#x27;Asian Literature&#x27;,\n",
       "       &#x27;Autobiography&#x27;,\n",
       "       ...\n",
       "       &#x27;Thriller&#x27;, &#x27;Travel&#x27;, &#x27;United States&#x27;, &#x27;War&#x27;, &#x27;Warfare&#x27;, &#x27;Westerns&#x27;,\n",
       "       &#x27;Womens Fiction&#x27;, &#x27;World War II&#x27;, &#x27;Writing&#x27;, &#x27;Young Adult&#x27;],\n",
       "      dtype=&#x27;object&#x27;, name=&#x27;genre_1&#x27;, length=118),\n",
       "   row_labels=Index([&#x27;Africa&#x27;, &#x27;Asia&#x27;, &#x27;Europe&#x27;, &#x27;North America&#x27;, &#x27;Oceania&#x27;, &#x27;South America&#x27;,\n",
       "       &#x27;United Kingdom&#x27;, &#x27;United States&#x27;],\n",
       "      dtype=&#x27;object&#x27;, name=&#x27;continent&#x27;))</pre></div> </div></div></div></div>"
      ],
      "text/plain": [
       "CA(col_labels=Index(['Adult', 'Adult Fiction', 'Adventure', 'Amish', 'Animals',\n",
       "       'Anthologies', 'Apocalyptic', 'Art', 'Asian Literature',\n",
       "       'Autobiography',\n",
       "       ...\n",
       "       'Thriller', 'Travel', 'United States', 'War', 'Warfare', 'Westerns',\n",
       "       'Womens Fiction', 'World War II', 'Writing', 'Young Adult'],\n",
       "      dtype='object', name='genre_1', length=118),\n",
       "   row_labels=Index(['Africa', 'Asia', 'Europe', 'North America', 'Oceania', 'South America',\n",
       "       'United Kingdom', 'United States'],\n",
       "      dtype='object', name='continent'))"
      ]
     },
     "execution_count": 14,
     "metadata": {},
     "output_type": "execute_result"
    }
   ],
   "source": [
    "## make the CA\n",
    "my_ca=CA(row_labels=contingency_table.index, col_labels=contingency_table.columns, stats=True)\n",
    "my_ca.fit(contingency_table.values)"
   ]
  },
  {
   "cell_type": "code",
   "execution_count": 15,
   "metadata": {},
   "outputs": [
    {
     "data": {
      "image/png": "[encoded data removed]",
      "text/plain": [
       "<Figure size 640x480 with 1 Axes>"
      ]
     },
     "metadata": {},
     "output_type": "display_data"
    }
   ],
   "source": [
    "my_ca.eig_\n",
    "# graphique of the eigenvalues\n",
    "my_ca.plot_eigenvalues(type=\"percentage\")"
   ]
  },
  {
   "cell_type": "code",
   "execution_count": 16,
   "metadata": {},
   "outputs": [
    {
     "data": {
      "application/vnd.plotly.v1+json": {
       "config": {
        "plotlyServerURL": "https://plot.ly"
       },
       "data": [
        {
         "hovertemplate": "x=%{x}<br>y=%{y}<br>text=%{text}<extra></extra>",
         "legendgroup": "",
         "marker": {
          "color": "#636efa",
          "symbol": "circle"
         },
         "mode": "markers+text",
         "name": "Genres",
         "orientation": "v",
         "showlegend": true,
         "text": [
          "Adult",
          "Adult Fiction",
          "Adventure",
          "Amish",
          "Animals",
          "Anthologies",
          "Apocalyptic",
          "Art",
          "Asian Literature",
          "Autobiography",
          "Biblical Fiction",
          "Biography",
          "Business",
          "Category Romance",
          "Childrens",
          "Christian",
          "Christian Fiction",
          "Christianity",
          "Classics",
          "Comics",
          "Contemporary",
          "Couture",
          "Crime",
          "Cultural",
          "Dark",
          "Dark Fantasy",
          "Dc Comics",
          "Did Not Finish",
          "Drama",
          "Dungeons and Dragons",
          "Eastern Africa",
          "Economics",
          "Education",
          "Epic",
          "Erotica",
          "Esoterica",
          "European Literature",
          "Family",
          "Fantasy",
          "Feminism",
          "Fiction",
          "Food and Drink",
          "Football",
          "Gardening",
          "Glbt",
          "Health",
          "Historical",
          "History",
          "Holiday",
          "Horror",
          "Humor",
          "Inspirational",
          "Language",
          "Lds",
          "Leadership",
          "Lgbt",
          "Literary Fiction",
          "Literature",
          "Love",
          "Magical Realism",
          "Manga",
          "Marriage",
          "Media Tie In",
          "Medical",
          "Mental Health",
          "Military History",
          "Music",
          "Mystery",
          "Mythology",
          "New Adult",
          "Nonfiction",
          "Northern Africa",
          "Novella",
          "Novels",
          "Occult",
          "Own",
          "Paranormal",
          "Parenting",
          "Philosophy",
          "Plays",
          "Poetry",
          "Politics",
          "Polyamorous",
          "Psychology",
          "Pulp",
          "Realistic Fiction",
          "Reference",
          "Relationships",
          "Religion",
          "Retellings",
          "Romance",
          "Science",
          "Science Fiction",
          "Science Fiction Fantasy",
          "Self Help",
          "Sequential Art",
          "Sexuality",
          "Shapeshifters",
          "Short Stories",
          "Social Science",
          "Sociology",
          "Speculative Fiction",
          "Spirituality",
          "Sports",
          "Sports and Games",
          "Spy Thriller",
          "Suspense",
          "Teaching",
          "Thriller",
          "Travel",
          "United States",
          "War",
          "Warfare",
          "Westerns",
          "Womens Fiction",
          "World War II",
          "Writing",
          "Young Adult"
         ],
         "textfont": {
          "color": "rgba(0,0,0,0)"
         },
         "textposition": "bottom center",
         "type": "scatter",
         "x": [
          0.2968933982042243,
          0.2518541371461075,
          0.10628187331874417,
          0.3990169160358351,
          0.2575335405602664,
          0.053859047386395104,
          0.3990169160358356,
          -0.3170981660031029,
          -2.8105330794056633,
          0.23355819417129736,
          0.3990169160358353,
          -0.7624530033811521,
          0.29991060519589685,
          0.24349380779984453,
          0.21201196576165435,
          0.147750908234574,
          0.15767596149254762,
          -0.3387328242589264,
          -0.05845566315491544,
          0.4092907432094614,
          0.26742221932984345,
          0.3990169160358353,
          0.39649348577149923,
          -1.154407186161232,
          0.36414310804052996,
          0.3990169160358353,
          0.3990169160358353,
          0.3990169160358353,
          0.48120753342484446,
          0.3990169160358353,
          -3.3502856361121256,
          0.2655443332186417,
          0.252875544953499,
          -2.977556033192129,
          0.36457899110728414,
          0.3990169160358353,
          -0.33873282425892676,
          0.3359311594274355,
          0.21678452968893558,
          0.10761045086161783,
          -0.21302909583784815,
          0.1323487269323244,
          0.1947698803726248,
          0.3990169160358353,
          0.2185386561031834,
          -0.08744501227475766,
          0.1648757171338437,
          0.10497199098888589,
          0.36012027367316357,
          0.19576932348979673,
          0.06853519058735619,
          -1.852031716782807,
          0.38199632973056774,
          0.3990169160358353,
          0.3990169160358353,
          0.10832752976603019,
          -0.7945897455945564,
          -2.081797833478717,
          -2.977556033192129,
          0.3990169160358354,
          -2.9775560331921294,
          0.3990169160358353,
          -0.2599080152660265,
          0.3990169160358353,
          0.4812075334248446,
          0.39901691603583517,
          0.370603269990279,
          0.21131282239340138,
          0.39660080689127813,
          0.3340752531354372,
          -0.09187921884528805,
          -3.3502856361121243,
          0.29689339820423005,
          -3.040258892777323,
          0.29689339820423005,
          0.1947698803726248,
          0.29867629923463174,
          0.1947698803726248,
          -0.7541300873450271,
          -0.09038082235426745,
          -0.672889026604363,
          -1.045280074310263,
          0.42641378849883854,
          -0.085915916323101,
          0.5633981508138537,
          0.3990169160358353,
          0.1947698803726248,
          0.3990169160358353,
          -0.9701487751875034,
          0.3990169160358352,
          0.27191198243891956,
          -0.06981414868533707,
          0.263156135536761,
          0.3990169160358353,
          -0.8792269280935986,
          -1.5866676232470074,
          -0.47783131045818233,
          0.13137964707346125,
          -0.5358323323344488,
          0.33593115942743557,
          0.030142045888454306,
          0.3990169160358353,
          -0.5808690188604076,
          0.3990169160358353,
          0.2066502521860446,
          -0.7685645714457526,
          0.08293624348255019,
          0.3990169160358353,
          0.1523957525080206,
          -0.24038430874013944,
          0.3990169160358353,
          -0.06529388159253716,
          0.3990169160358352,
          0.393759769651802,
          0.22423808102228943,
          -0.09281624416067275,
          0.3479551571200326,
          0.29616374928025413
         ],
         "xaxis": "x",
         "y": [
          0.023812650366364558,
          0.0872927913708105,
          0.18945762034570504,
          0.0299872943519911,
          0.14502121357526082,
          0.41660574950947676,
          0.02998729435199113,
          -0.3705304137595325,
          -1.9323615840283457,
          -0.04208455664788435,
          0.02998729435199112,
          0.7408673300366538,
          0.014092834911003244,
          0.017464842936838212,
          0.03696567319876182,
          -0.10247389288964308,
          -0.13105117753609083,
          -0.07539342786134869,
          -0.039526033430226155,
          0.03343215392129284,
          0.06955168196776092,
          0.02998729435199112,
          0.02664285866103839,
          -0.24318741650345693,
          0.024948864253092045,
          0.02998729435199112,
          0.02998729435199112,
          0.02998729435199112,
          0.05754617090640488,
          0.02998729435199112,
          5.161407933612647,
          -0.001511308062535282,
          -0.09893314456030887,
          -2.1898702926397187,
          0.06672084723630485,
          0.02998729435199112,
          -0.07539342786134876,
          -0.05362359792182717,
          0.02712841654351555,
          0.301798347923032,
          -0.06283578965809138,
          0.10213524962637839,
          0.017638006380739056,
          0.02998729435199112,
          0.15841390857783821,
          0.43695490526200936,
          0.009967436020682846,
          -0.07227432786812606,
          0.02738396272544626,
          -0.022743773298853544,
          -0.16469511756246183,
          -1.449917763642482,
          0.028958187021053433,
          0.02998729435199112,
          0.02998729435199112,
          0.04137746225024387,
          -0.7140816639689962,
          2.632753552278693,
          -2.1898702926397187,
          0.029987294351991076,
          -2.1898702926397187,
          0.029987294351991142,
          0.8831658529002252,
          0.02998729435199112,
          0.057546170906404924,
          0.02998729435199111,
          0.0263461275142829,
          0.034202647609489906,
          0.032579322542147175,
          0.06901626577433206,
          0.01307482458288773,
          5.161407933612647,
          0.02381265036636511,
          2.2569020443057615,
          0.02381265036636511,
          0.017638006380739056,
          0.04412899041443352,
          0.017638006380739056,
          0.04648949855258742,
          -0.07513096512432695,
          0.08636917714490525,
          1.123397393950374,
          0.039173586536795674,
          -0.06250191682262315,
          0.08510504746081866,
          0.02998729435199112,
          0.017638006380739056,
          0.02998729435199112,
          0.3225145591281585,
          0.02998729435199111,
          -0.0036434876718445825,
          0.0704774731958302,
          -0.005550059714439982,
          0.029987294351991142,
          0.5579995598972176,
          -1.2577690792951746,
          -0.743535339121808,
          0.2992355634924593,
          0.5360627459220374,
          -0.053623597921827186,
          -0.022703066754678786,
          0.02998729435199112,
          -0.5850972267258387,
          0.029987294351991142,
          0.14337235101024973,
          -0.7657058294944576,
          0.3878988574286399,
          0.02998729435199112,
          -0.029339426719288353,
          0.2853545061273875,
          0.02998729435199112,
          -0.25503607628369596,
          0.02998729435199108,
          0.02301971999583958,
          -0.026752024414611348,
          -0.0402665204569021,
          0.0268999723591781,
          0.042494582988524876
         ],
         "yaxis": "y"
        },
        {
         "marker": {
          "color": "red",
          "line": {
           "color": "black",
           "width": 1
          },
          "opacity": 0.7,
          "size": 15
         },
         "mode": "markers+text",
         "name": "Continents",
         "text": [
          "Africa",
          "Asia",
          "Europe",
          "North America",
          "Oceania",
          "South America",
          "United Kingdom",
          "United States"
         ],
         "textfont": {
          "color": "rgba(0,0,0,0)"
         },
         "textposition": "bottom center",
         "type": "scatter",
         "x": [
          -1.785759769818879,
          -1.5870884915431827,
          -0.18055041151078582,
          0.17905707604987295,
          0.30030088815987077,
          -0.25469229303274227,
          0.10381569051691106,
          0.21268286753032667
         ],
         "y": [
          1.9354629020423055,
          -0.8211737506905591,
          -0.028271584916425913,
          -0.020108173154816913,
          0.03191331982583164,
          -0.2788163779607397,
          0.006614030019520681,
          0.011244857313628056
         ]
        }
       ],
       "layout": {
        "legend": {
         "tracegroupgap": 0
        },
        "margin": {
         "t": 60
        },
        "template": {
         "data": {
          "bar": [
           {
            "error_x": {
             "color": "#2a3f5f"
            },
            "error_y": {
             "color": "#2a3f5f"
            },
            "marker": {
             "line": {
              "color": "#E5ECF6",
              "width": 0.5
             },
             "pattern": {
              "fillmode": "overlay",
              "size": 10,
              "solidity": 0.2
             }
            },
            "type": "bar"
           }
          ],
          "barpolar": [
           {
            "marker": {
             "line": {
              "color": "#E5ECF6",
              "width": 0.5
             },
             "pattern": {
              "fillmode": "overlay",
              "size": 10,
              "solidity": 0.2
             }
            },
            "type": "barpolar"
           }
          ],
          "carpet": [
           {
            "aaxis": {
             "endlinecolor": "#2a3f5f",
             "gridcolor": "white",
             "linecolor": "white",
             "minorgridcolor": "white",
             "startlinecolor": "#2a3f5f"
            },
            "baxis": {
             "endlinecolor": "#2a3f5f",
             "gridcolor": "white",
             "linecolor": "white",
             "minorgridcolor": "white",
             "startlinecolor": "#2a3f5f"
            },
            "type": "carpet"
           }
          ],
          "choropleth": [
           {
            "colorbar": {
             "outlinewidth": 0,
             "ticks": ""
            },
            "type": "choropleth"
           }
          ],
          "contour": [
           {
            "colorbar": {
             "outlinewidth": 0,
             "ticks": ""
            },
            "colorscale": [
             [
              0,
              "#0d0887"
             ],
             [
              0.1111111111111111,
              "#46039f"
             ],
             [
              0.2222222222222222,
              "#7201a8"
             ],
             [
              0.3333333333333333,
              "#9c179e"
             ],
             [
              0.4444444444444444,
              "#bd3786"
             ],
             [
              0.5555555555555556,
              "#d8576b"
             ],
             [
              0.6666666666666666,
              "#ed7953"
             ],
             [
              0.7777777777777778,
              "#fb9f3a"
             ],
             [
              0.8888888888888888,
              "#fdca26"
             ],
             [
              1,
              "#f0f921"
             ]
            ],
            "type": "contour"
           }
          ],
          "contourcarpet": [
           {
            "colorbar": {
             "outlinewidth": 0,
             "ticks": ""
            },
            "type": "contourcarpet"
           }
          ],
          "heatmap": [
           {
            "colorbar": {
             "outlinewidth": 0,
             "ticks": ""
            },
            "colorscale": [
             [
              0,
              "#0d0887"
             ],
             [
              0.1111111111111111,
              "#46039f"
             ],
             [
              0.2222222222222222,
              "#7201a8"
             ],
             [
              0.3333333333333333,
              "#9c179e"
             ],
             [
              0.4444444444444444,
              "#bd3786"
             ],
             [
              0.5555555555555556,
              "#d8576b"
             ],
             [
              0.6666666666666666,
              "#ed7953"
             ],
             [
              0.7777777777777778,
              "#fb9f3a"
             ],
             [
              0.8888888888888888,
              "#fdca26"
             ],
             [
              1,
              "#f0f921"
             ]
            ],
            "type": "heatmap"
           }
          ],
          "heatmapgl": [
           {
            "colorbar": {
             "outlinewidth": 0,
             "ticks": ""
            },
            "colorscale": [
             [
              0,
              "#0d0887"
             ],
             [
              0.1111111111111111,
              "#46039f"
             ],
             [
              0.2222222222222222,
              "#7201a8"
             ],
             [
              0.3333333333333333,
              "#9c179e"
             ],
             [
              0.4444444444444444,
              "#bd3786"
             ],
             [
              0.5555555555555556,
              "#d8576b"
             ],
             [
              0.6666666666666666,
              "#ed7953"
             ],
             [
              0.7777777777777778,
              "#fb9f3a"
             ],
             [
              0.8888888888888888,
              "#fdca26"
             ],
             [
              1,
              "#f0f921"
             ]
            ],
            "type": "heatmapgl"
           }
          ],
          "histogram": [
           {
            "marker": {
             "pattern": {
              "fillmode": "overlay",
              "size": 10,
              "solidity": 0.2
             }
            },
            "type": "histogram"
           }
          ],
          "histogram2d": [
           {
            "colorbar": {
             "outlinewidth": 0,
             "ticks": ""
            },
            "colorscale": [
             [
              0,
              "#0d0887"
             ],
             [
              0.1111111111111111,
              "#46039f"
             ],
             [
              0.2222222222222222,
              "#7201a8"
             ],
             [
              0.3333333333333333,
              "#9c179e"
             ],
             [
              0.4444444444444444,
              "#bd3786"
             ],
             [
              0.5555555555555556,
              "#d8576b"
             ],
             [
              0.6666666666666666,
              "#ed7953"
             ],
             [
              0.7777777777777778,
              "#fb9f3a"
             ],
             [
              0.8888888888888888,
              "#fdca26"
             ],
             [
              1,
              "#f0f921"
             ]
            ],
            "type": "histogram2d"
           }
          ],
          "histogram2dcontour": [
           {
            "colorbar": {
             "outlinewidth": 0,
             "ticks": ""
            },
            "colorscale": [
             [
              0,
              "#0d0887"
             ],
             [
              0.1111111111111111,
              "#46039f"
             ],
             [
              0.2222222222222222,
              "#7201a8"
             ],
             [
              0.3333333333333333,
              "#9c179e"
             ],
             [
              0.4444444444444444,
              "#bd3786"
             ],
             [
              0.5555555555555556,
              "#d8576b"
             ],
             [
              0.6666666666666666,
              "#ed7953"
             ],
             [
              0.7777777777777778,
              "#fb9f3a"
             ],
             [
              0.8888888888888888,
              "#fdca26"
             ],
             [
              1,
              "#f0f921"
             ]
            ],
            "type": "histogram2dcontour"
           }
          ],
          "mesh3d": [
           {
            "colorbar": {
             "outlinewidth": 0,
             "ticks": ""
            },
            "type": "mesh3d"
           }
          ],
          "parcoords": [
           {
            "line": {
             "colorbar": {
              "outlinewidth": 0,
              "ticks": ""
             }
            },
            "type": "parcoords"
           }
          ],
          "pie": [
           {
            "automargin": true,
            "type": "pie"
           }
          ],
          "scatter": [
           {
            "fillpattern": {
             "fillmode": "overlay",
             "size": 10,
             "solidity": 0.2
            },
            "type": "scatter"
           }
          ],
          "scatter3d": [
           {
            "line": {
             "colorbar": {
              "outlinewidth": 0,
              "ticks": ""
             }
            },
            "marker": {
             "colorbar": {
              "outlinewidth": 0,
              "ticks": ""
             }
            },
            "type": "scatter3d"
           }
          ],
          "scattercarpet": [
           {
            "marker": {
             "colorbar": {
              "outlinewidth": 0,
              "ticks": ""
             }
            },
            "type": "scattercarpet"
           }
          ],
          "scattergeo": [
           {
            "marker": {
             "colorbar": {
              "outlinewidth": 0,
              "ticks": ""
             }
            },
            "type": "scattergeo"
           }
          ],
          "scattergl": [
           {
            "marker": {
             "colorbar": {
              "outlinewidth": 0,
              "ticks": ""
             }
            },
            "type": "scattergl"
           }
          ],
          "scattermapbox": [
           {
            "marker": {
             "colorbar": {
              "outlinewidth": 0,
              "ticks": ""
             }
            },
            "type": "scattermapbox"
           }
          ],
          "scatterpolar": [
           {
            "marker": {
             "colorbar": {
              "outlinewidth": 0,
              "ticks": ""
             }
            },
            "type": "scatterpolar"
           }
          ],
          "scatterpolargl": [
           {
            "marker": {
             "colorbar": {
              "outlinewidth": 0,
              "ticks": ""
             }
            },
            "type": "scatterpolargl"
           }
          ],
          "scatterternary": [
           {
            "marker": {
             "colorbar": {
              "outlinewidth": 0,
              "ticks": ""
             }
            },
            "type": "scatterternary"
           }
          ],
          "surface": [
           {
            "colorbar": {
             "outlinewidth": 0,
             "ticks": ""
            },
            "colorscale": [
             [
              0,
              "#0d0887"
             ],
             [
              0.1111111111111111,
              "#46039f"
             ],
             [
              0.2222222222222222,
              "#7201a8"
             ],
             [
              0.3333333333333333,
              "#9c179e"
             ],
             [
              0.4444444444444444,
              "#bd3786"
             ],
             [
              0.5555555555555556,
              "#d8576b"
             ],
             [
              0.6666666666666666,
              "#ed7953"
             ],
             [
              0.7777777777777778,
              "#fb9f3a"
             ],
             [
              0.8888888888888888,
              "#fdca26"
             ],
             [
              1,
              "#f0f921"
             ]
            ],
            "type": "surface"
           }
          ],
          "table": [
           {
            "cells": {
             "fill": {
              "color": "#EBF0F8"
             },
             "line": {
              "color": "white"
             }
            },
            "header": {
             "fill": {
              "color": "#C8D4E3"
             },
             "line": {
              "color": "white"
             }
            },
            "type": "table"
           }
          ]
         },
         "layout": {
          "annotationdefaults": {
           "arrowcolor": "#2a3f5f",
           "arrowhead": 0,
           "arrowwidth": 1
          },
          "autotypenumbers": "strict",
          "coloraxis": {
           "colorbar": {
            "outlinewidth": 0,
            "ticks": ""
           }
          },
          "colorscale": {
           "diverging": [
            [
             0,
             "#8e0152"
            ],
            [
             0.1,
             "#c51b7d"
            ],
            [
             0.2,
             "#de77ae"
            ],
            [
             0.3,
             "#f1b6da"
            ],
            [
             0.4,
             "#fde0ef"
            ],
            [
             0.5,
             "#f7f7f7"
            ],
            [
             0.6,
             "#e6f5d0"
            ],
            [
             0.7,
             "#b8e186"
            ],
            [
             0.8,
             "#7fbc41"
            ],
            [
             0.9,
             "#4d9221"
            ],
            [
             1,
             "#276419"
            ]
           ],
           "sequential": [
            [
             0,
             "#0d0887"
            ],
            [
             0.1111111111111111,
             "#46039f"
            ],
            [
             0.2222222222222222,
             "#7201a8"
            ],
            [
             0.3333333333333333,
             "#9c179e"
            ],
            [
             0.4444444444444444,
             "#bd3786"
            ],
            [
             0.5555555555555556,
             "#d8576b"
            ],
            [
             0.6666666666666666,
             "#ed7953"
            ],
            [
             0.7777777777777778,
             "#fb9f3a"
            ],
            [
             0.8888888888888888,
             "#fdca26"
            ],
            [
             1,
             "#f0f921"
            ]
           ],
           "sequentialminus": [
            [
             0,
             "#0d0887"
            ],
            [
             0.1111111111111111,
             "#46039f"
            ],
            [
             0.2222222222222222,
             "#7201a8"
            ],
            [
             0.3333333333333333,
             "#9c179e"
            ],
            [
             0.4444444444444444,
             "#bd3786"
            ],
            [
             0.5555555555555556,
             "#d8576b"
            ],
            [
             0.6666666666666666,
             "#ed7953"
            ],
            [
             0.7777777777777778,
             "#fb9f3a"
            ],
            [
             0.8888888888888888,
             "#fdca26"
            ],
            [
             1,
             "#f0f921"
            ]
           ]
          },
          "colorway": [
           "#636efa",
           "#EF553B",
           "#00cc96",
           "#ab63fa",
           "#FFA15A",
           "#19d3f3",
           "#FF6692",
           "#B6E880",
           "#FF97FF",
           "#FECB52"
          ],
          "font": {
           "color": "#2a3f5f"
          },
          "geo": {
           "bgcolor": "white",
           "lakecolor": "white",
           "landcolor": "#E5ECF6",
           "showlakes": true,
           "showland": true,
           "subunitcolor": "white"
          },
          "hoverlabel": {
           "align": "left"
          },
          "hovermode": "closest",
          "mapbox": {
           "style": "light"
          },
          "paper_bgcolor": "white",
          "plot_bgcolor": "#E5ECF6",
          "polar": {
           "angularaxis": {
            "gridcolor": "white",
            "linecolor": "white",
            "ticks": ""
           },
           "bgcolor": "#E5ECF6",
           "radialaxis": {
            "gridcolor": "white",
            "linecolor": "white",
            "ticks": ""
           }
          },
          "scene": {
           "xaxis": {
            "backgroundcolor": "#E5ECF6",
            "gridcolor": "white",
            "gridwidth": 2,
            "linecolor": "white",
            "showbackground": true,
            "ticks": "",
            "zerolinecolor": "white"
           },
           "yaxis": {
            "backgroundcolor": "#E5ECF6",
            "gridcolor": "white",
            "gridwidth": 2,
            "linecolor": "white",
            "showbackground": true,
            "ticks": "",
            "zerolinecolor": "white"
           },
           "zaxis": {
            "backgroundcolor": "#E5ECF6",
            "gridcolor": "white",
            "gridwidth": 2,
            "linecolor": "white",
            "showbackground": true,
            "ticks": "",
            "zerolinecolor": "white"
           }
          },
          "shapedefaults": {
           "line": {
            "color": "#2a3f5f"
           }
          },
          "ternary": {
           "aaxis": {
            "gridcolor": "white",
            "linecolor": "white",
            "ticks": ""
           },
           "baxis": {
            "gridcolor": "white",
            "linecolor": "white",
            "ticks": ""
           },
           "bgcolor": "#E5ECF6",
           "caxis": {
            "gridcolor": "white",
            "linecolor": "white",
            "ticks": ""
           }
          },
          "title": {
           "x": 0.05
          },
          "xaxis": {
           "automargin": true,
           "gridcolor": "white",
           "linecolor": "white",
           "ticks": "",
           "title": {
            "standoff": 15
           },
           "zerolinecolor": "white",
           "zerolinewidth": 2
          },
          "yaxis": {
           "automargin": true,
           "gridcolor": "white",
           "linecolor": "white",
           "ticks": "",
           "title": {
            "standoff": 15
           },
           "zerolinecolor": "white",
           "zerolinewidth": 2
          }
         }
        },
        "title": {
         "text": "Scatter Plot of Genre and Continent"
        },
        "xaxis": {
         "anchor": "y",
         "domain": [
          0,
          1
         ],
         "title": {
          "text": "Dim 1"
         }
        },
        "yaxis": {
         "anchor": "x",
         "domain": [
          0,
          1
         ],
         "title": {
          "text": "Dim 2"
         }
        }
       }
      },
      "text/html": [
       "<div>                            <div id=\"d851485d-76be-4867-8dfa-7102e744ea74\" class=\"plotly-graph-div\" style=\"height:525px; width:100%;\"></div>            <script type=\"text/javascript\">                require([\"plotly\"], function(Plotly) {                    window.PLOTLYENV=window.PLOTLYENV || {};                                    if (document.getElementById(\"d851485d-76be-4867-8dfa-7102e744ea74\")) {                    Plotly.newPlot(                        \"d851485d-76be-4867-8dfa-7102e744ea74\",                        [{\"hovertemplate\":\"x=%{x}\\u003cbr\\u003ey=%{y}\\u003cbr\\u003etext=%{text}\\u003cextra\\u003e\\u003c\\u002fextra\\u003e\",\"legendgroup\":\"\",\"marker\":{\"color\":\"#636efa\",\"symbol\":\"circle\"},\"mode\":\"markers+text\",\"name\":\"Genres\",\"orientation\":\"v\",\"showlegend\":true,\"text\":[\"Adult\",\"Adult Fiction\",\"Adventure\",\"Amish\",\"Animals\",\"Anthologies\",\"Apocalyptic\",\"Art\",\"Asian Literature\",\"Autobiography\",\"Biblical Fiction\",\"Biography\",\"Business\",\"Category Romance\",\"Childrens\",\"Christian\",\"Christian Fiction\",\"Christianity\",\"Classics\",\"Comics\",\"Contemporary\",\"Couture\",\"Crime\",\"Cultural\",\"Dark\",\"Dark Fantasy\",\"Dc Comics\",\"Did Not Finish\",\"Drama\",\"Dungeons and Dragons\",\"Eastern Africa\",\"Economics\",\"Education\",\"Epic\",\"Erotica\",\"Esoterica\",\"European Literature\",\"Family\",\"Fantasy\",\"Feminism\",\"Fiction\",\"Food and Drink\",\"Football\",\"Gardening\",\"Glbt\",\"Health\",\"Historical\",\"History\",\"Holiday\",\"Horror\",\"Humor\",\"Inspirational\",\"Language\",\"Lds\",\"Leadership\",\"Lgbt\",\"Literary Fiction\",\"Literature\",\"Love\",\"Magical Realism\",\"Manga\",\"Marriage\",\"Media Tie In\",\"Medical\",\"Mental Health\",\"Military History\",\"Music\",\"Mystery\",\"Mythology\",\"New Adult\",\"Nonfiction\",\"Northern Africa\",\"Novella\",\"Novels\",\"Occult\",\"Own\",\"Paranormal\",\"Parenting\",\"Philosophy\",\"Plays\",\"Poetry\",\"Politics\",\"Polyamorous\",\"Psychology\",\"Pulp\",\"Realistic Fiction\",\"Reference\",\"Relationships\",\"Religion\",\"Retellings\",\"Romance\",\"Science\",\"Science Fiction\",\"Science Fiction Fantasy\",\"Self Help\",\"Sequential Art\",\"Sexuality\",\"Shapeshifters\",\"Short Stories\",\"Social Science\",\"Sociology\",\"Speculative Fiction\",\"Spirituality\",\"Sports\",\"Sports and Games\",\"Spy Thriller\",\"Suspense\",\"Teaching\",\"Thriller\",\"Travel\",\"United States\",\"War\",\"Warfare\",\"Westerns\",\"Womens Fiction\",\"World War II\",\"Writing\",\"Young Adult\"],\"x\":[0.2968933982042243,0.2518541371461075,0.10628187331874417,0.3990169160358351,0.2575335405602664,0.053859047386395104,0.3990169160358356,-0.3170981660031029,-2.8105330794056633,0.23355819417129736,0.3990169160358353,-0.7624530033811521,0.29991060519589685,0.24349380779984453,0.21201196576165435,0.147750908234574,0.15767596149254762,-0.3387328242589264,-0.05845566315491544,0.4092907432094614,0.26742221932984345,0.3990169160358353,0.39649348577149923,-1.154407186161232,0.36414310804052996,0.3990169160358353,0.3990169160358353,0.3990169160358353,0.48120753342484446,0.3990169160358353,-3.3502856361121256,0.2655443332186417,0.252875544953499,-2.977556033192129,0.36457899110728414,0.3990169160358353,-0.33873282425892676,0.3359311594274355,0.21678452968893558,0.10761045086161783,-0.21302909583784815,0.1323487269323244,0.1947698803726248,0.3990169160358353,0.2185386561031834,-0.08744501227475766,0.1648757171338437,0.10497199098888589,0.36012027367316357,0.19576932348979673,0.06853519058735619,-1.852031716782807,0.38199632973056774,0.3990169160358353,0.3990169160358353,0.10832752976603019,-0.7945897455945564,-2.081797833478717,-2.977556033192129,0.3990169160358354,-2.9775560331921294,0.3990169160358353,-0.2599080152660265,0.3990169160358353,0.4812075334248446,0.39901691603583517,0.370603269990279,0.21131282239340138,0.39660080689127813,0.3340752531354372,-0.09187921884528805,-3.3502856361121243,0.29689339820423005,-3.040258892777323,0.29689339820423005,0.1947698803726248,0.29867629923463174,0.1947698803726248,-0.7541300873450271,-0.09038082235426745,-0.672889026604363,-1.045280074310263,0.42641378849883854,-0.085915916323101,0.5633981508138537,0.3990169160358353,0.1947698803726248,0.3990169160358353,-0.9701487751875034,0.3990169160358352,0.27191198243891956,-0.06981414868533707,0.263156135536761,0.3990169160358353,-0.8792269280935986,-1.5866676232470074,-0.47783131045818233,0.13137964707346125,-0.5358323323344488,0.33593115942743557,0.030142045888454306,0.3990169160358353,-0.5808690188604076,0.3990169160358353,0.2066502521860446,-0.7685645714457526,0.08293624348255019,0.3990169160358353,0.1523957525080206,-0.24038430874013944,0.3990169160358353,-0.06529388159253716,0.3990169160358352,0.393759769651802,0.22423808102228943,-0.09281624416067275,0.3479551571200326,0.29616374928025413],\"xaxis\":\"x\",\"y\":[0.023812650366364558,0.0872927913708105,0.18945762034570504,0.0299872943519911,0.14502121357526082,0.41660574950947676,0.02998729435199113,-0.3705304137595325,-1.9323615840283457,-0.04208455664788435,0.02998729435199112,0.7408673300366538,0.014092834911003244,0.017464842936838212,0.03696567319876182,-0.10247389288964308,-0.13105117753609083,-0.07539342786134869,-0.039526033430226155,0.03343215392129284,0.06955168196776092,0.02998729435199112,0.02664285866103839,-0.24318741650345693,0.024948864253092045,0.02998729435199112,0.02998729435199112,0.02998729435199112,0.05754617090640488,0.02998729435199112,5.161407933612647,-0.001511308062535282,-0.09893314456030887,-2.1898702926397187,0.06672084723630485,0.02998729435199112,-0.07539342786134876,-0.05362359792182717,0.02712841654351555,0.301798347923032,-0.06283578965809138,0.10213524962637839,0.017638006380739056,0.02998729435199112,0.15841390857783821,0.43695490526200936,0.009967436020682846,-0.07227432786812606,0.02738396272544626,-0.022743773298853544,-0.16469511756246183,-1.449917763642482,0.028958187021053433,0.02998729435199112,0.02998729435199112,0.04137746225024387,-0.7140816639689962,2.632753552278693,-2.1898702926397187,0.029987294351991076,-2.1898702926397187,0.029987294351991142,0.8831658529002252,0.02998729435199112,0.057546170906404924,0.02998729435199111,0.0263461275142829,0.034202647609489906,0.032579322542147175,0.06901626577433206,0.01307482458288773,5.161407933612647,0.02381265036636511,2.2569020443057615,0.02381265036636511,0.017638006380739056,0.04412899041443352,0.017638006380739056,0.04648949855258742,-0.07513096512432695,0.08636917714490525,1.123397393950374,0.039173586536795674,-0.06250191682262315,0.08510504746081866,0.02998729435199112,0.017638006380739056,0.02998729435199112,0.3225145591281585,0.02998729435199111,-0.0036434876718445825,0.0704774731958302,-0.005550059714439982,0.029987294351991142,0.5579995598972176,-1.2577690792951746,-0.743535339121808,0.2992355634924593,0.5360627459220374,-0.053623597921827186,-0.022703066754678786,0.02998729435199112,-0.5850972267258387,0.029987294351991142,0.14337235101024973,-0.7657058294944576,0.3878988574286399,0.02998729435199112,-0.029339426719288353,0.2853545061273875,0.02998729435199112,-0.25503607628369596,0.02998729435199108,0.02301971999583958,-0.026752024414611348,-0.0402665204569021,0.0268999723591781,0.042494582988524876],\"yaxis\":\"y\",\"type\":\"scatter\",\"textfont\":{\"color\":\"rgba(0,0,0,0)\"},\"textposition\":\"bottom center\"},{\"marker\":{\"color\":\"red\",\"line\":{\"color\":\"black\",\"width\":1},\"opacity\":0.7,\"size\":15},\"mode\":\"markers+text\",\"name\":\"Continents\",\"text\":[\"Africa\",\"Asia\",\"Europe\",\"North America\",\"Oceania\",\"South America\",\"United Kingdom\",\"United States\"],\"x\":[-1.785759769818879,-1.5870884915431827,-0.18055041151078582,0.17905707604987295,0.30030088815987077,-0.25469229303274227,0.10381569051691106,0.21268286753032667],\"y\":[1.9354629020423055,-0.8211737506905591,-0.028271584916425913,-0.020108173154816913,0.03191331982583164,-0.2788163779607397,0.006614030019520681,0.011244857313628056],\"type\":\"scatter\",\"textfont\":{\"color\":\"rgba(0,0,0,0)\"},\"textposition\":\"bottom center\"}],                        {\"template\":{\"data\":{\"histogram2dcontour\":[{\"type\":\"histogram2dcontour\",\"colorbar\":{\"outlinewidth\":0,\"ticks\":\"\"},\"colorscale\":[[0.0,\"#0d0887\"],[0.1111111111111111,\"#46039f\"],[0.2222222222222222,\"#7201a8\"],[0.3333333333333333,\"#9c179e\"],[0.4444444444444444,\"#bd3786\"],[0.5555555555555556,\"#d8576b\"],[0.6666666666666666,\"#ed7953\"],[0.7777777777777778,\"#fb9f3a\"],[0.8888888888888888,\"#fdca26\"],[1.0,\"#f0f921\"]]}],\"choropleth\":[{\"type\":\"choropleth\",\"colorbar\":{\"outlinewidth\":0,\"ticks\":\"\"}}],\"histogram2d\":[{\"type\":\"histogram2d\",\"colorbar\":{\"outlinewidth\":0,\"ticks\":\"\"},\"colorscale\":[[0.0,\"#0d0887\"],[0.1111111111111111,\"#46039f\"],[0.2222222222222222,\"#7201a8\"],[0.3333333333333333,\"#9c179e\"],[0.4444444444444444,\"#bd3786\"],[0.5555555555555556,\"#d8576b\"],[0.6666666666666666,\"#ed7953\"],[0.7777777777777778,\"#fb9f3a\"],[0.8888888888888888,\"#fdca26\"],[1.0,\"#f0f921\"]]}],\"heatmap\":[{\"type\":\"heatmap\",\"colorbar\":{\"outlinewidth\":0,\"ticks\":\"\"},\"colorscale\":[[0.0,\"#0d0887\"],[0.1111111111111111,\"#46039f\"],[0.2222222222222222,\"#7201a8\"],[0.3333333333333333,\"#9c179e\"],[0.4444444444444444,\"#bd3786\"],[0.5555555555555556,\"#d8576b\"],[0.6666666666666666,\"#ed7953\"],[0.7777777777777778,\"#fb9f3a\"],[0.8888888888888888,\"#fdca26\"],[1.0,\"#f0f921\"]]}],\"heatmapgl\":[{\"type\":\"heatmapgl\",\"colorbar\":{\"outlinewidth\":0,\"ticks\":\"\"},\"colorscale\":[[0.0,\"#0d0887\"],[0.1111111111111111,\"#46039f\"],[0.2222222222222222,\"#7201a8\"],[0.3333333333333333,\"#9c179e\"],[0.4444444444444444,\"#bd3786\"],[0.5555555555555556,\"#d8576b\"],[0.6666666666666666,\"#ed7953\"],[0.7777777777777778,\"#fb9f3a\"],[0.8888888888888888,\"#fdca26\"],[1.0,\"#f0f921\"]]}],\"contourcarpet\":[{\"type\":\"contourcarpet\",\"colorbar\":{\"outlinewidth\":0,\"ticks\":\"\"}}],\"contour\":[{\"type\":\"contour\",\"colorbar\":{\"outlinewidth\":0,\"ticks\":\"\"},\"colorscale\":[[0.0,\"#0d0887\"],[0.1111111111111111,\"#46039f\"],[0.2222222222222222,\"#7201a8\"],[0.3333333333333333,\"#9c179e\"],[0.4444444444444444,\"#bd3786\"],[0.5555555555555556,\"#d8576b\"],[0.6666666666666666,\"#ed7953\"],[0.7777777777777778,\"#fb9f3a\"],[0.8888888888888888,\"#fdca26\"],[1.0,\"#f0f921\"]]}],\"surface\":[{\"type\":\"surface\",\"colorbar\":{\"outlinewidth\":0,\"ticks\":\"\"},\"colorscale\":[[0.0,\"#0d0887\"],[0.1111111111111111,\"#46039f\"],[0.2222222222222222,\"#7201a8\"],[0.3333333333333333,\"#9c179e\"],[0.4444444444444444,\"#bd3786\"],[0.5555555555555556,\"#d8576b\"],[0.6666666666666666,\"#ed7953\"],[0.7777777777777778,\"#fb9f3a\"],[0.8888888888888888,\"#fdca26\"],[1.0,\"#f0f921\"]]}],\"mesh3d\":[{\"type\":\"mesh3d\",\"colorbar\":{\"outlinewidth\":0,\"ticks\":\"\"}}],\"scatter\":[{\"fillpattern\":{\"fillmode\":\"overlay\",\"size\":10,\"solidity\":0.2},\"type\":\"scatter\"}],\"parcoords\":[{\"type\":\"parcoords\",\"line\":{\"colorbar\":{\"outlinewidth\":0,\"ticks\":\"\"}}}],\"scatterpolargl\":[{\"type\":\"scatterpolargl\",\"marker\":{\"colorbar\":{\"outlinewidth\":0,\"ticks\":\"\"}}}],\"bar\":[{\"error_x\":{\"color\":\"#2a3f5f\"},\"error_y\":{\"color\":\"#2a3f5f\"},\"marker\":{\"line\":{\"color\":\"#E5ECF6\",\"width\":0.5},\"pattern\":{\"fillmode\":\"overlay\",\"size\":10,\"solidity\":0.2}},\"type\":\"bar\"}],\"scattergeo\":[{\"type\":\"scattergeo\",\"marker\":{\"colorbar\":{\"outlinewidth\":0,\"ticks\":\"\"}}}],\"scatterpolar\":[{\"type\":\"scatterpolar\",\"marker\":{\"colorbar\":{\"outlinewidth\":0,\"ticks\":\"\"}}}],\"histogram\":[{\"marker\":{\"pattern\":{\"fillmode\":\"overlay\",\"size\":10,\"solidity\":0.2}},\"type\":\"histogram\"}],\"scattergl\":[{\"type\":\"scattergl\",\"marker\":{\"colorbar\":{\"outlinewidth\":0,\"ticks\":\"\"}}}],\"scatter3d\":[{\"type\":\"scatter3d\",\"line\":{\"colorbar\":{\"outlinewidth\":0,\"ticks\":\"\"}},\"marker\":{\"colorbar\":{\"outlinewidth\":0,\"ticks\":\"\"}}}],\"scattermapbox\":[{\"type\":\"scattermapbox\",\"marker\":{\"colorbar\":{\"outlinewidth\":0,\"ticks\":\"\"}}}],\"scatterternary\":[{\"type\":\"scatterternary\",\"marker\":{\"colorbar\":{\"outlinewidth\":0,\"ticks\":\"\"}}}],\"scattercarpet\":[{\"type\":\"scattercarpet\",\"marker\":{\"colorbar\":{\"outlinewidth\":0,\"ticks\":\"\"}}}],\"carpet\":[{\"aaxis\":{\"endlinecolor\":\"#2a3f5f\",\"gridcolor\":\"white\",\"linecolor\":\"white\",\"minorgridcolor\":\"white\",\"startlinecolor\":\"#2a3f5f\"},\"baxis\":{\"endlinecolor\":\"#2a3f5f\",\"gridcolor\":\"white\",\"linecolor\":\"white\",\"minorgridcolor\":\"white\",\"startlinecolor\":\"#2a3f5f\"},\"type\":\"carpet\"}],\"table\":[{\"cells\":{\"fill\":{\"color\":\"#EBF0F8\"},\"line\":{\"color\":\"white\"}},\"header\":{\"fill\":{\"color\":\"#C8D4E3\"},\"line\":{\"color\":\"white\"}},\"type\":\"table\"}],\"barpolar\":[{\"marker\":{\"line\":{\"color\":\"#E5ECF6\",\"width\":0.5},\"pattern\":{\"fillmode\":\"overlay\",\"size\":10,\"solidity\":0.2}},\"type\":\"barpolar\"}],\"pie\":[{\"automargin\":true,\"type\":\"pie\"}]},\"layout\":{\"autotypenumbers\":\"strict\",\"colorway\":[\"#636efa\",\"#EF553B\",\"#00cc96\",\"#ab63fa\",\"#FFA15A\",\"#19d3f3\",\"#FF6692\",\"#B6E880\",\"#FF97FF\",\"#FECB52\"],\"font\":{\"color\":\"#2a3f5f\"},\"hovermode\":\"closest\",\"hoverlabel\":{\"align\":\"left\"},\"paper_bgcolor\":\"white\",\"plot_bgcolor\":\"#E5ECF6\",\"polar\":{\"bgcolor\":\"#E5ECF6\",\"angularaxis\":{\"gridcolor\":\"white\",\"linecolor\":\"white\",\"ticks\":\"\"},\"radialaxis\":{\"gridcolor\":\"white\",\"linecolor\":\"white\",\"ticks\":\"\"}},\"ternary\":{\"bgcolor\":\"#E5ECF6\",\"aaxis\":{\"gridcolor\":\"white\",\"linecolor\":\"white\",\"ticks\":\"\"},\"baxis\":{\"gridcolor\":\"white\",\"linecolor\":\"white\",\"ticks\":\"\"},\"caxis\":{\"gridcolor\":\"white\",\"linecolor\":\"white\",\"ticks\":\"\"}},\"coloraxis\":{\"colorbar\":{\"outlinewidth\":0,\"ticks\":\"\"}},\"colorscale\":{\"sequential\":[[0.0,\"#0d0887\"],[0.1111111111111111,\"#46039f\"],[0.2222222222222222,\"#7201a8\"],[0.3333333333333333,\"#9c179e\"],[0.4444444444444444,\"#bd3786\"],[0.5555555555555556,\"#d8576b\"],[0.6666666666666666,\"#ed7953\"],[0.7777777777777778,\"#fb9f3a\"],[0.8888888888888888,\"#fdca26\"],[1.0,\"#f0f921\"]],\"sequentialminus\":[[0.0,\"#0d0887\"],[0.1111111111111111,\"#46039f\"],[0.2222222222222222,\"#7201a8\"],[0.3333333333333333,\"#9c179e\"],[0.4444444444444444,\"#bd3786\"],[0.5555555555555556,\"#d8576b\"],[0.6666666666666666,\"#ed7953\"],[0.7777777777777778,\"#fb9f3a\"],[0.8888888888888888,\"#fdca26\"],[1.0,\"#f0f921\"]],\"diverging\":[[0,\"#8e0152\"],[0.1,\"#c51b7d\"],[0.2,\"#de77ae\"],[0.3,\"#f1b6da\"],[0.4,\"#fde0ef\"],[0.5,\"#f7f7f7\"],[0.6,\"#e6f5d0\"],[0.7,\"#b8e186\"],[0.8,\"#7fbc41\"],[0.9,\"#4d9221\"],[1,\"#276419\"]]},\"xaxis\":{\"gridcolor\":\"white\",\"linecolor\":\"white\",\"ticks\":\"\",\"title\":{\"standoff\":15},\"zerolinecolor\":\"white\",\"automargin\":true,\"zerolinewidth\":2},\"yaxis\":{\"gridcolor\":\"white\",\"linecolor\":\"white\",\"ticks\":\"\",\"title\":{\"standoff\":15},\"zerolinecolor\":\"white\",\"automargin\":true,\"zerolinewidth\":2},\"scene\":{\"xaxis\":{\"backgroundcolor\":\"#E5ECF6\",\"gridcolor\":\"white\",\"linecolor\":\"white\",\"showbackground\":true,\"ticks\":\"\",\"zerolinecolor\":\"white\",\"gridwidth\":2},\"yaxis\":{\"backgroundcolor\":\"#E5ECF6\",\"gridcolor\":\"white\",\"linecolor\":\"white\",\"showbackground\":true,\"ticks\":\"\",\"zerolinecolor\":\"white\",\"gridwidth\":2},\"zaxis\":{\"backgroundcolor\":\"#E5ECF6\",\"gridcolor\":\"white\",\"linecolor\":\"white\",\"showbackground\":true,\"ticks\":\"\",\"zerolinecolor\":\"white\",\"gridwidth\":2}},\"shapedefaults\":{\"line\":{\"color\":\"#2a3f5f\"}},\"annotationdefaults\":{\"arrowcolor\":\"#2a3f5f\",\"arrowhead\":0,\"arrowwidth\":1},\"geo\":{\"bgcolor\":\"white\",\"landcolor\":\"#E5ECF6\",\"subunitcolor\":\"white\",\"showland\":true,\"showlakes\":true,\"lakecolor\":\"white\"},\"title\":{\"x\":0.05},\"mapbox\":{\"style\":\"light\"}}},\"xaxis\":{\"anchor\":\"y\",\"domain\":[0.0,1.0],\"title\":{\"text\":\"Dim 1\"}},\"yaxis\":{\"anchor\":\"x\",\"domain\":[0.0,1.0],\"title\":{\"text\":\"Dim 2\"}},\"legend\":{\"tracegroupgap\":0},\"margin\":{\"t\":60},\"title\":{\"text\":\"Scatter Plot of Genre and Continent\"}},                        {\"responsive\": true}                    ).then(function(){\n",
       "                            \n",
       "var gd = document.getElementById('d851485d-76be-4867-8dfa-7102e744ea74');\n",
       "var x = new MutationObserver(function (mutations, observer) {{\n",
       "        var display = window.getComputedStyle(gd).display;\n",
       "        if (!display || display === 'none') {{\n",
       "            console.log([gd, 'removed!']);\n",
       "            Plotly.purge(gd);\n",
       "            observer.disconnect();\n",
       "        }}\n",
       "}});\n",
       "\n",
       "// Listen for the removal of the full notebook cells\n",
       "var notebookContainer = gd.closest('#notebook-container');\n",
       "if (notebookContainer) {{\n",
       "    x.observe(notebookContainer, {childList: true});\n",
       "}}\n",
       "\n",
       "// Listen for the clearing of the current output cell\n",
       "var outputEl = gd.closest('.output');\n",
       "if (outputEl) {{\n",
       "    x.observe(outputEl, {childList: true});\n",
       "}}\n",
       "\n",
       "                        })                };                });            </script>        </div>"
      ]
     },
     "metadata": {},
     "output_type": "display_data"
    }
   ],
   "source": [
    "# create a scatter plot of the row and column coordinates with continent and genre labels\n",
    "fig = px.scatter(x=my_ca.col_coord_[:,0], y=my_ca.col_coord_[:,1], text=contingency_table.columns)\n",
    "fig.update_traces(name='Genres', showlegend=True)\n",
    "\n",
    "fig.add_scatter(x=my_ca.row_coord_[:,0], y=my_ca.row_coord_[:,1], mode='markers+text', text=contingency_table.index, marker=dict(size=15, opacity=0.7, color='red', line=dict(color='black', width=1)), name='Continents')\n",
    "fig.update_traces(textposition='bottom center', textfont=dict(color='rgba(0,0,0,0)'))\n",
    "\n",
    "fig.update_layout(title='Scatter Plot of Genre and Continent', xaxis_title='Dim 1', yaxis_title='Dim 2')\n",
    "\n",
    "fig.show()\n"
   ]
  }
 ],
 "metadata": {
  "kernelspec": {
   "display_name": "Python 3",
   "language": "python",
   "name": "python3"
  },
  "language_info": {
   "codemirror_mode": {
    "name": "ipython",
    "version": 3
   },
   "file_extension": ".py",
   "mimetype": "text/x-python",
   "name": "python",
   "nbconvert_exporter": "python",
   "pygments_lexer": "ipython3",
   "version": "3.12.6"
  }
 },
 "nbformat": 4,
 "nbformat_minor": 2
}
