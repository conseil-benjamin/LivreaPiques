{
 "cells": [
  {
   "cell_type": "code",
   "execution_count": 1,
   "metadata": {},
   "outputs": [],
   "source": [
    "import pandas as pd\n",
    "import numpy as np\n",
    "import matplotlib.pyplot as plt\n",
    "\n",
    "#CSV Import\n",
    "BaseDataFrame = pd.read_csv(\"Big_boss_authors.csv\", delimiter=\",\")\n",
    "\n",
    "\n",
    "#Loop for every row\n",
    "for row in BaseDataFrame.iterrows():\n",
    "    #Every rows that causes issues\n",
    "    row[1]['author_gender'] = row[1]['author_gender'].replace(\"\\n\", \"\")\n",
    "    row[1]['author_genres'] = row[1]['author_genres'].replace(\"\\n\", \"\")\n",
    "    row[1]['author_name'] = row[1]['author_name'].replace(\"\\n\", \"\")\n",
    "    row[1]['birthplace'] = row[1]['birthplace'].replace(\"\\n\", \"\")\n",
    "    row[1]['birthplace'] = row[1]['birthplace'].replace(\"  \", \"\")\n",
    "    row[1]['book_title'] = row[1]['book_title'].replace(\"\\n\", \"\")\n",
    "    row[1]['book_title'] = row[1]['book_title'].replace(\"  \", \"\")\n",
    "    #Put all the modification in a list\n",
    "    CorrectedRows = row[1].tolist()\n",
    "    #Repalce the list in the dataframe with the corresponding row\n",
    "    BaseDataFrame.loc[row[0]] = CorrectedRows\n",
    "\n",
    "BaseDataFrame.to_csv(\"CleanedAuthors.csv\", index=True) \n",
    " "
   ]
  }
 ],
 "metadata": {
  "kernelspec": {
   "display_name": "Python 3",
   "language": "python",
   "name": "python3"
  },
  "language_info": {
   "codemirror_mode": {
    "name": "ipython",
    "version": 3
   },
   "file_extension": ".py",
   "mimetype": "text/x-python",
   "name": "python",
   "nbconvert_exporter": "python",
   "pygments_lexer": "ipython3",
   "version": "3.12.6"
  }
 },
 "nbformat": 4,
 "nbformat_minor": 2
}
