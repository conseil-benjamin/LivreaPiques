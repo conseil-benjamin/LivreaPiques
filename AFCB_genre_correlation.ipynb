{
 "cells": [
  {
   "cell_type": "code",
   "execution_count": 3,
   "metadata": {},
   "outputs": [],
   "source": [
    "import pandas as pd\n",
    "import prince\n",
    "import matplotlib.pyplot as plt\n",
    "import plotly.express as px\n",
    "\n",
    "# Load the co-occurrence matrix from the CSV file\n",
    "co_occurrence_df = pd.read_csv(\"co_occurrence_genres.csv\", index_col=0)\n",
    "\n",
    "# Perform Correspondence Analysis (CA)\n",
    "ca = prince.CA(n_components=2, n_iter=10, copy=True, check_input=True, engine='sklearn')\n",
    "ca = ca.fit(co_occurrence_df)\n",
    "\n",
    "# Get the eigenvalues\n",
    "eigenvalues = ca.eigenvalues_\n",
    "\n",
    "# Get the coordinates of rows and columns\n",
    "row_coords = ca.row_coordinates(co_occurrence_df)\n",
    "col_coords = ca.column_coordinates(co_occurrence_df)\n",
    "\n",
    "# Create a DataFrame for the coordinates of rows and columns\n",
    "row_coords['type'] = 'Genre'\n",
    "col_coords['type'] = 'Co-genre'\n",
    "row_coords['label'] = row_coords.index\n",
    "col_coords['label'] = col_coords.index\n",
    "\n",
    "# Create an interactive plot with plotly\n",
    "fig = px.scatter(row_coords, x=0, y=1, color='type', text='label', title='CA of Literary Genres')\n",
    "fig.update_traces(textposition='top center', hoverinfo='text', textfont=dict(color='rgba(0, 0, 0, 0)'))\n",
    "\n",
    "# Show the plot\n",
    "fig.show(renderer=\"browser\")"
   ]
  },
  {
   "cell_type": "code",
   "execution_count": 4,
   "metadata": {},
   "outputs": [],
   "source": [
    "import pandas as pd\n",
    "import prince\n",
    "import plotly.express as px\n",
    "\n",
    "# Load the co-occurrence matrix from the CSV file\n",
    "co_occurrence_df = pd.read_csv(\"co_occurrence_genres.csv\", index_col=0)\n",
    "\n",
    "# Perform Correspondence Analysis (CA)\n",
    "ca = prince.CA(n_components=2, n_iter=10, copy=True, check_input=True, engine='sklearn')\n",
    "ca = ca.fit(co_occurrence_df)\n",
    "\n",
    "# Get the coordinates of rows and columns\n",
    "row_coords = ca.row_coordinates(co_occurrence_df)\n",
    "col_coords = ca.column_coordinates(co_occurrence_df)\n",
    "\n",
    "# Add columns for type and labels\n",
    "row_coords['type'] = 'Genre'\n",
    "col_coords['type'] = 'Co-genre'\n",
    "row_coords['label'] = row_coords.index\n",
    "col_coords['label'] = col_coords.index\n",
    "\n",
    "# Calculate the total co-occurrences for each genre\n",
    "row_coords['total_co_occurrences'] = co_occurrence_df.sum(axis=1)\n",
    "\n",
    "# Filter the top 20 most represented genres\n",
    "top_20_genres = row_coords.nlargest(100, 'total_co_occurrences')\n",
    "\n",
    "# Create an interactive plot with plotly\n",
    "fig = px.scatter(top_20_genres, x=0, y=1, color='type', text='label', title='CA of the 20 most represented literary genres')\n",
    "fig.update_traces(textposition='top center', hoverinfo='text', textfont=dict(color='rgba(0, 0, 0, 0)'))\n",
    "\n",
    "# Show the plot\n",
    "fig.show(renderer=\"browser\")"
   ]
  }
 ],
 "metadata": {
  "kernelspec": {
   "display_name": "Python 3",
   "language": "python",
   "name": "python3"
  },
  "language_info": {
   "codemirror_mode": {
    "name": "ipython",
    "version": 3
   },
   "file_extension": ".py",
   "mimetype": "text/x-python",
   "name": "python",
   "nbconvert_exporter": "python",
   "pygments_lexer": "ipython3",
   "version": "3.12.6"
  }
 },
 "nbformat": 4,
 "nbformat_minor": 2
}
